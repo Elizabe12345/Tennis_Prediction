{
 "cells": [
  {
   "cell_type": "code",
   "execution_count": 1,
   "id": "06790c27",
   "metadata": {},
   "outputs": [],
   "source": [
    "import pandas as pd\n",
    "import matplotlib.pyplot as plt\n",
    "import seaborn as sns\n",
    "import os\n",
    "from pylab import mpl\n",
    "# 设置显示中文字体\n",
    "mpl.rcParams[\"font.sans-serif\"] = [\"SimHei\"]\n",
    "pd.set_option('display.max_columns', 200)\n",
    "pd.set_option('display.max_rows', 200)\n",
    "from sklearn.base import clone  # 新增导入解决NameError\n",
    "from sklearn.linear_model import LogisticRegression\n",
    "from sklearn.neural_network import MLPClassifier\n",
    "from sklearn.tree import DecisionTreeClassifier\n",
    "from sklearn.metrics import accuracy_score, roc_auc_score, f1_score\n",
    "from sklearn.preprocessing import StandardScaler\n",
    "import pandas as pd\n",
    "import numpy as np"
   ]
  },
  {
   "cell_type": "code",
   "execution_count": 2,
   "id": "bec568b2",
   "metadata": {},
   "outputs": [],
   "source": [
    "df = pd.read_csv(r\"..\\dataset\\processed_data_1\\match_df_20_24.csv\",low_memory=False)"
   ]
  },
  {
   "cell_type": "code",
   "execution_count": 3,
   "id": "c4c0e6f0-bd33-4efb-b174-099394c8f939",
   "metadata": {
    "scrolled": true
   },
   "outputs": [
    {
     "name": "stdout",
     "output_type": "stream",
     "text": [
      "['tourney_id', 'tourney_date', 'round_code', 'best_of', 'surface_Clay', 'surface_Grass', 'surface_Hard', 'player1_id', 'player2_id', 'player1_seed_bucket', 'player1_entry', 'player1_host', 'player1_hand', 'player1_ht', 'player1_age', 'player1_rank', 'player1_rank_points', 'player1_ace', 'player1_df', 'player1_svpt', 'player1_fstIn', 'player1_fstWon', 'player1_sndWon', 'player1_SvGms', 'player1_bpSaved', 'player1_bpFaced', 'baseline_rally', 'intensity', 'player1_ace_rate', 'player1_df_rate', 'player1_serve_win_rate', 'player1_serve_efficiency', 'player1_clutch_ability', 'player1_sets', 'player1_games', 'player1_ret', 'player1_elo_before_hard', 'player1_elo_before_clay', 'player1_elo_before_grass', 'result', 'player1_ace_hist', 'player1_df_hist', 'player1_svpt_hist', 'player1_fstIn_hist', 'player1_fstWon_hist', 'player1_sndWon_hist', 'player1_SvGms_hist', 'player1_bpSaved_hist', 'player1_bpFaced_hist', 'player1_baseline_rally_hist', 'player1_intensity_hist', 'player1_ace_rate_hist', 'player1_df_rate_hist', 'player1_serve_win_rate_hist', 'player1_serve_efficiency_hist', 'player1_clutch_ability_hist', 'player1_ace_hist_e', 'player1_df_hist_e', 'player1_svpt_hist_e', 'player1_fstIn_hist_e', 'player1_fstWon_hist_e', 'player1_sndWon_hist_e', 'player1_SvGms_hist_e', 'player1_bpSaved_hist_e', 'player1_bpFaced_hist_e', 'player1_baseline_rally_hist_e', 'player1_intensity_hist_e', 'player1_ace_rate_hist_e', 'player1_df_rate_hist_e', 'player1_serve_win_rate_hist_e', 'player1_serve_efficiency_hist_e', 'player1_clutch_ability_hist_e', 'player2_seed_bucket', 'player2_entry', 'player2_host', 'player2_hand', 'player2_ht', 'player2_age', 'player2_rank', 'player2_rank_points', 'player2_ace', 'player2_df', 'player2_svpt', 'player2_fstIn', 'player2_fstWon', 'player2_sndWon', 'player2_SvGms', 'player2_bpSaved', 'player2_bpFaced', 'player2_ace_rate', 'player2_df_rate', 'player2_serve_win_rate', 'player2_serve_efficiency', 'player2_clutch_ability', 'player2_sets', 'player2_games', 'player2_ret', 'player2_elo_before_hard', 'player2_elo_before_clay', 'player2_elo_before_grass', 'player2_ace_hist', 'player2_df_hist', 'player2_svpt_hist', 'player2_fstIn_hist', 'player2_fstWon_hist', 'player2_sndWon_hist', 'player2_SvGms_hist', 'player2_bpSaved_hist', 'player2_bpFaced_hist', 'player2_baseline_rally_hist', 'player2_intensity_hist', 'player2_ace_rate_hist', 'player2_df_rate_hist', 'player2_serve_win_rate_hist', 'player2_serve_efficiency_hist', 'player2_clutch_ability_hist', 'player2_ace_hist_e', 'player2_df_hist_e', 'player2_svpt_hist_e', 'player2_fstIn_hist_e', 'player2_fstWon_hist_e', 'player2_sndWon_hist_e', 'player2_SvGms_hist_e', 'player2_bpSaved_hist_e', 'player2_bpFaced_hist_e', 'player2_baseline_rally_hist_e', 'player2_intensity_hist_e', 'player2_ace_rate_hist_e', 'player2_df_rate_hist_e', 'player2_serve_win_rate_hist_e', 'player2_serve_efficiency_hist_e', 'player2_clutch_ability_hist_e']\n"
     ]
    }
   ],
   "source": [
    "print(df.columns.tolist())"
   ]
  },
  {
   "cell_type": "code",
   "execution_count": 4,
   "id": "26e16ce8-557f-446e-98f8-f80479965793",
   "metadata": {},
   "outputs": [],
   "source": [
    "from sklearn.model_selection import train_test_split, GridSearchCV\n",
    "from sklearn.ensemble import RandomForestClassifier\n",
    "from sklearn.metrics import accuracy_score, roc_auc_score, f1_score\n",
    "\n",
    "# 假设 df 是最终包含所有特征的数据集，result 为标签\n",
    "\n",
    "# 划分特征集，举例：选取 _hist 与其他特征（这里需要根据实际特征列名来指定）\n",
    "hist_features = [col for col in df.columns if col.endswith('_hist')]\n",
    "hist_e_features = [col for col in df.columns if col.endswith('_hist_e')]\n",
    "hist_o_features = [col for col in df.columns if col.endswith('_histo')]\n",
    "other_features = [col for col in df.columns if col not in hist_features + hist_e_features + ['result',\"tourney_id\",\n",
    "                                                        \"tourney_date\",\"player1_id\",\"player2_id\", \"player1_ret\",\n",
    "                                                        \"player2_ret\",'player1_sets', 'player1_games','player2_sets', 'player2_games']]\n",
    "supplement_features =['round_code','best_of', 'surface_Clay', 'surface_Grass', 'surface_Hard','player1_seed_bucket',\n",
    "                     'player1_entry', 'player1_host', 'player1_hand', 'player1_ht','player1_age',\n",
    "                      'player2_seed_bucket', 'player2_entry','player2_host', 'player2_hand', 'player2_ht', 'player2_age',\n",
    "                     'player1_elo_before_grass','player1_elo_before_clay','player1_elo_before_hard',\n",
    "                      'player2_elo_before_grass','player2_elo_before_clay','player2_elo_before_hard',\n",
    "                       'player1_rank', 'player1_rank_points','player2_rank', 'player2_rank_points']\n",
    "elo_features =['player1_elo_before_grass','player1_elo_before_clay','player1_elo_before_hard',\n",
    "                      'player2_elo_before_grass','player2_elo_before_clay','player2_elo_before_hard']\n",
    "rank_features =['player1_rank', 'player1_rank_points','player2_rank', 'player2_rank_points']\n",
    "\n",
    "# 构造不同特征组合\n",
    "X_A = df[hist_features + supplement_features]\n",
    "X_B = df[hist_e_features + supplement_features]\n",
    "X_C = df[hist_features + hist_e_features + supplement_features]\n",
    "#X_C = df[elo_features]\n",
    "X_D = df[hist_features + rank_features]\n",
    "X_F = df[hist_features + elo_features]\n",
    "y = df['result']\n",
    "\n",
    "# 分割训练集和测试集\n",
    "X_A_train, X_A_test, y_train, y_test = train_test_split(X_A, y, test_size=0.3, random_state=42)\n",
    "X_B_train, X_B_test, _, _ = train_test_split(X_B, y, test_size=0.3, random_state=42)\n",
    "X_C_train, X_C_test, _, _ = train_test_split(X_C, y, test_size=0.3, random_state=42)\n",
    "X_D_train, X_D_test, _, _ = train_test_split(X_D, y, test_size=0.3, random_state=42)\n",
    "X_F_train, X_F_test, _, _ = train_test_split(X_F, y, test_size=0.3, random_state=42)"
   ]
  },
  {
   "cell_type": "code",
   "execution_count": 5,
   "id": "0610cbe2-c567-4fa9-8f62-28de021de131",
   "metadata": {},
   "outputs": [],
   "source": [
    "df['year'] = pd.to_datetime(df['tourney_date'], format='%Y-%m-%d').dt.year\n",
    "# 按时间分割数据集\n",
    "train_mask = df['year'].between(2020, 2023)\n",
    "test_mask = (df['year'] == 2024)\n",
    "\n",
    "# 统一划分标签集\n",
    "y_train = y[train_mask]\n",
    "y_test = y[test_mask]\n",
    "\n",
    "# 划分各个特征组合\n",
    "X_A_train, X_A_test = X_A[train_mask], X_A[test_mask]\n",
    "X_B_train, X_B_test = X_B[train_mask], X_B[test_mask]\n",
    "X_C_train, X_C_test = X_C[train_mask], X_C[test_mask]\n",
    "X_D_train, X_D_test = X_D[train_mask], X_D[test_mask]\n",
    "X_F_train, X_F_test = X_F[train_mask], X_F[test_mask]"
   ]
  },
  {
   "cell_type": "code",
   "execution_count": 6,
   "id": "c9340e29",
   "metadata": {},
   "outputs": [
    {
     "name": "stdout",
     "output_type": "stream",
     "text": [
      "\n",
      "=== 正在评估模型: Logistic Regression ===\n",
      "特征组合 [Hist+s] - Accuracy: 0.6461, AUC: 0.7131, F1: 0.6429\n",
      "特征组合 [Hist_e+s] - Accuracy: 0.6441, AUC: 0.7043, F1: 0.6413\n",
      "特征组合 [Hist+Hist_e+s] - Accuracy: 0.6455, AUC: 0.7085, F1: 0.6435\n",
      "特征组合 [hist+r] - Accuracy: 0.6403, AUC: 0.7087, F1: 0.6374\n",
      "特征组合 [hist+e] - Accuracy: 0.6192, AUC: 0.6775, F1: 0.6072\n",
      "\n",
      "=== 正在评估模型: ANN ===\n",
      "特征组合 [Hist+s] - Accuracy: 0.5787, AUC: 0.6186, F1: 0.5888\n",
      "特征组合 [Hist_e+s] - Accuracy: 0.6205, AUC: 0.6671, F1: 0.6213\n",
      "特征组合 [Hist+Hist_e+s] - Accuracy: 0.6205, AUC: 0.6688, F1: 0.6195\n",
      "特征组合 [hist+r] - Accuracy: 0.6064, AUC: 0.6492, F1: 0.6043\n",
      "特征组合 [hist+e] - Accuracy: 0.6088, AUC: 0.6512, F1: 0.5892\n",
      "\n",
      "=== 正在评估模型: Decision Tree ===\n",
      "特征组合 [Hist+s] - Accuracy: 0.5752, AUC: 0.5753, F1: 0.5766\n",
      "特征组合 [Hist_e+s] - Accuracy: 0.5534, AUC: 0.5534, F1: 0.5478\n",
      "特征组合 [Hist+Hist_e+s] - Accuracy: 0.5700, AUC: 0.5701, F1: 0.5712\n",
      "特征组合 [hist+r] - Accuracy: 0.5655, AUC: 0.5656, F1: 0.5687\n",
      "特征组合 [hist+e] - Accuracy: 0.5458, AUC: 0.5459, F1: 0.5483\n"
     ]
    }
   ],
   "source": [
    "# ==================================================================\n",
    "# 定义三个模型（逻辑回归/ANN/决策树）和对应的标准化器\n",
    "# ==================================================================\n",
    "models = [\n",
    "    {\n",
    "        \"name\": \"Logistic Regression\",\n",
    "        \"clf\": LogisticRegression(max_iter=2000, random_state=42),\n",
    "        \"scaler\": StandardScaler()  # 逻辑回归需要标准化\n",
    "    },\n",
    "    {\n",
    "        \"name\": \"ANN\",\n",
    "        \"clf\": MLPClassifier(hidden_layer_sizes=(100,), max_iter=1000, random_state=42),\n",
    "        \"scaler\": StandardScaler()  # 神经网络需要标准化\n",
    "    },\n",
    "    {\n",
    "        \"name\": \"Decision Tree\",\n",
    "        \"clf\": DecisionTreeClassifier(random_state=42),\n",
    "        \"scaler\": None  # 决策树不需要标准化\n",
    "    }\n",
    "]\n",
    "\n",
    "# ==================================================================\n",
    "# 遍历每个模型进行训练和评估\n",
    "# ==================================================================\n",
    "for model in models:\n",
    "    print(f\"\\n=== 正在评估模型: {model['name']} ===\")\n",
    "    # 遍历不同特征组合\n",
    "    for feature_set_name, X_train, X_test in [\n",
    "        ('Hist+s', X_A_train, X_A_test),\n",
    "        ('Hist_e+s', X_B_train, X_B_test),\n",
    "        ('Hist+Hist_e+s', X_C_train, X_C_test),\n",
    "        ('hist+r', X_D_train, X_D_test),\n",
    "        ('hist+e', X_F_train, X_F_test)\n",
    "    ]:\n",
    "        # 克隆一个新模型确保每次训练独立\n",
    "        clf = clone(model[\"clf\"])  # 现在可以正常使用了\n",
    "        \n",
    "        # 数据标准化处理（如果该模型需要）\n",
    "        if model[\"scaler\"] is not None:\n",
    "            # 训练集标准化\n",
    "            scaler = clone(model[\"scaler\"])\n",
    "            X_train_scaled = scaler.fit_transform(X_train)\n",
    "            # 测试集使用相同的scaler转换\n",
    "            X_test_scaled = scaler.transform(X_test)\n",
    "        else:\n",
    "            X_train_scaled = X_train\n",
    "            X_test_scaled = X_test\n",
    "        \n",
    "        # 模型训练\n",
    "        clf.fit(X_train_scaled, y_train)\n",
    "        \n",
    "        # 预测结果\n",
    "        y_pred = clf.predict(X_test_scaled)\n",
    "        \n",
    "        # 计算评估指标\n",
    "        acc = accuracy_score(y_test, y_pred)\n",
    "        auc = roc_auc_score(y_test, clf.predict_proba(X_test_scaled)[:, 1])\n",
    "        f1 = f1_score(y_test, y_pred)\n",
    "        \n",
    "        # 打印结果\n",
    "        print(f\"特征组合 [{feature_set_name}] - Accuracy: {acc:.4f}, AUC: {auc:.4f}, F1: {f1:.4f}\")"
   ]
  },
  {
   "cell_type": "code",
   "execution_count": null,
   "id": "2a5de0aa",
   "metadata": {},
   "outputs": [],
   "source": []
  },
  {
   "cell_type": "code",
   "execution_count": null,
   "id": "72a731a6",
   "metadata": {},
   "outputs": [],
   "source": []
  }
 ],
 "metadata": {
  "kernelspec": {
   "display_name": "Python 3 (ipykernel)",
   "language": "python",
   "name": "python3"
  },
  "language_info": {
   "codemirror_mode": {
    "name": "ipython",
    "version": 3
   },
   "file_extension": ".py",
   "mimetype": "text/x-python",
   "name": "python",
   "nbconvert_exporter": "python",
   "pygments_lexer": "ipython3",
   "version": "3.8.20"
  }
 },
 "nbformat": 4,
 "nbformat_minor": 5
}
