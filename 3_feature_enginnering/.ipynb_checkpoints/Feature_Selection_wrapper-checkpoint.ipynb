{
 "cells": [
  {
   "cell_type": "code",
   "execution_count": 1,
   "id": "ace4c6b4",
   "metadata": {},
   "outputs": [],
   "source": [
    "import pandas as pd\n",
    "import numpy as np\n",
    "import matplotlib.pyplot as plt\n",
    "import seaborn as sns\n",
    "import os\n",
    "from pylab import mpl\n",
    "# 设置显示中文字体\n",
    "mpl.rcParams[\"font.sans-serif\"] = [\"SimHei\"]\n",
    "pd.set_option('display.max_columns', None)\n",
    "pd.set_option('display.max_rows', None)"
   ]
  },
  {
   "cell_type": "code",
   "execution_count": null,
   "id": "85342c71",
   "metadata": {},
   "outputs": [],
   "source": [
    "#match_df = pd.read_csv(r\"..\\dataset\\processed_data\\match_df_20_24.csv\",low_memory=False)\n",
    "match_df = pd.read_csv(r\"..\\dataset\\processed_data\\match_df_20_24_symmetry.csv\",low_memory=False)"
   ]
  },
  {
   "cell_type": "code",
   "execution_count": null,
   "id": "f7cf559a",
   "metadata": {},
   "outputs": [],
   "source": [
    "match_df.columns"
   ]
  },
  {
   "cell_type": "code",
   "execution_count": null,
   "id": "f657102c",
   "metadata": {},
   "outputs": [],
   "source": [
    "from sklearn.model_selection import train_test_split\n",
    "from sklearn.preprocessing import StandardScaler\n",
    "\n",
    "y = match_df[\"result\"]  # 目标变量\n",
    "X = match_df.drop([\"result\", \"tourney_id\", \"tourney_date\",\"player1_id\",\"player2_id\",'sym_sets', 'sym_games','sym_sets', 'sym_games'], axis=1)  # 移除无关特征\n",
    "\n",
    "# 处理缺失值（示例：用均值填充）\n",
    "X = X.fillna(X.mean())\n",
    "\n",
    "# 标准化数据（对线性模型重要）\n",
    "scaler = StandardScaler()\n",
    "X_scaled = pd.DataFrame(scaler.fit_transform(X), columns=X.columns)\n",
    "\n",
    "# 划分训练集和验证集\n",
    "X_train, X_val, y_train, y_val = train_test_split(X_scaled, y, test_size=0.2, random_state=42)"
   ]
  },
  {
   "cell_type": "code",
   "execution_count": 18,
   "id": "88ad7134",
   "metadata": {},
   "outputs": [
    {
     "name": "stdout",
     "output_type": "stream",
     "text": [
      "Forward Selected Features: ['round_code', 'surface_Grass', 'sym_seed_bucket', 'sym_entry', 'sym_hand', 'sym_elo_before', 'sym_df', 'sym_svpt', 'sym_fstWon', 'sym_sndWon', 'sym_bpSaved', 'sym_bpFaced', 'sym_serve_win_rate', 'sym_serve_efficiency', 'sym_elo_after', 'sym_ret', 'sym_fstWon_hist', 'sym_baseline_rally_hist', 'sym_serve_efficiency_hist', 'sym_clutch_ability_hist']\n"
     ]
    }
   ],
   "source": [
    "from mlxtend.feature_selection import SequentialFeatureSelector\n",
    "from sklearn.linear_model import LogisticRegression\n",
    "\n",
    "# 初始化模型（以逻辑回归为例）\n",
    "model = LogisticRegression(max_iter=500)\n",
    "\n",
    "# 前向选择：选择30个最优特征（k_features可调整）\n",
    "forward_selector = SequentialFeatureSelector(\n",
    "    model,\n",
    "    k_features=15,  # 目标特征数量\n",
    "    forward=True,    # 前向模式\n",
    "    scoring=\"accuracy\",\n",
    "    cv=5             # 交叉验证折数\n",
    ")\n",
    "forward_selector.fit(X_train, y_train)\n",
    "\n",
    "# 输出选中的特征\n",
    "selected_forward = list(forward_selector.k_feature_names_)\n",
    "print(\"Forward Selected Features:\", selected_forward)"
   ]
  },
  {
   "cell_type": "code",
   "execution_count": 17,
   "id": "c04388cf",
   "metadata": {},
   "outputs": [
    {
     "name": "stdout",
     "output_type": "stream",
     "text": [
      "Backward Selected Features: ['sym_SvGms', 'sym_serve_win_rate', 'sym_serve_efficiency']\n"
     ]
    }
   ],
   "source": [
    "from sklearn.metrics import accuracy_score\n",
    "\n",
    "def backward_elimination(X_train, X_val, y_train, y_val, model, threshold=0.001):\n",
    "    features = list(X_train.columns)\n",
    "    while len(features) > 1:\n",
    "        model.fit(X_train[features], y_train)\n",
    "        y_pred = model.predict(X_val[features])\n",
    "        baseline_acc = accuracy_score(y_val, y_pred)\n",
    "        \n",
    "        # 尝试移除每个特征并评估性能变化\n",
    "        worst_feature = None\n",
    "        for feature in features:\n",
    "            temp_features = [f for f in features if f != feature]\n",
    "            model.fit(X_train[temp_features], y_train)\n",
    "            y_pred_temp = model.predict(X_val[temp_features])\n",
    "            temp_acc = accuracy_score(y_val, y_pred_temp)\n",
    "            # 如果移除后性能下降不超过阈值，则标记为可删除\n",
    "            if (temp_acc - baseline_acc) >= -threshold:\n",
    "                worst_feature = feature\n",
    "                break\n",
    "        \n",
    "        if worst_feature:\n",
    "            features.remove(worst_feature)\n",
    "        else:\n",
    "            break  # 没有可移除的特征时停止\n",
    "    return features\n",
    "\n",
    "# 初始化模型 以逻辑回归为例\n",
    "model = LogisticRegression(max_iter=1000)\n",
    "\n",
    "# 执行后向消除  \n",
    "selected_backward = backward_elimination(X_train, X_val, y_train, y_val, model)\n",
    "print(\"Backward Selected Features:\", selected_backward)"
   ]
  },
  {
   "cell_type": "code",
   "execution_count": null,
   "id": "f1fabe4b",
   "metadata": {},
   "outputs": [],
   "source": [
    "# 合并两种方法选出的特征\n",
    "final_features = list(set(selected_forward + selected_backward))\n",
    "\n",
    "# 训练最终模型\n",
    "model_final = LogisticRegression(max_iter=1000)\n",
    "model_final.fit(X_train[final_features], y_train)\n",
    "\n",
    "# 验证集性能\n",
    "val_acc = model_final.score(X_val[final_features], y_val)\n",
    "print(f\"Validation Accuracy with Selected Features: {val_acc:.4f}\")\n",
    "\n",
    "# 对比全特征模型\n",
    "model_full = LogisticRegression(max_iter=1000)\n",
    "model_full.fit(X_train, y_train)\n",
    "full_acc = model_full.score(X_val, y_val)\n",
    "print(f\"Validation Accuracy with All Features: {full_acc:.4f}\")"
   ]
  },
  {
   "cell_type": "code",
   "execution_count": null,
   "id": "350675d6",
   "metadata": {},
   "outputs": [],
   "source": []
  }
 ],
 "metadata": {
  "kernelspec": {
   "display_name": "Python 3 (ipykernel)",
   "language": "python",
   "name": "python3"
  },
  "language_info": {
   "codemirror_mode": {
    "name": "ipython",
    "version": 3
   },
   "file_extension": ".py",
   "mimetype": "text/x-python",
   "name": "python",
   "nbconvert_exporter": "python",
   "pygments_lexer": "ipython3",
   "version": "3.8.20"
  }
 },
 "nbformat": 4,
 "nbformat_minor": 5
}
