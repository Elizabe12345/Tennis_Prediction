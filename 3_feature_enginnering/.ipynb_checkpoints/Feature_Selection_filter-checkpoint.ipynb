{
 "cells": [
  {
   "cell_type": "code",
   "execution_count": 1,
   "id": "f64967b4",
   "metadata": {},
   "outputs": [],
   "source": [
    "import pandas as pd\n",
    "import matplotlib.pyplot as plt\n",
    "import seaborn as sns\n",
    "import os\n",
    "from pylab import mpl\n",
    "# 设置显示中文字体\n",
    "mpl.rcParams[\"font.sans-serif\"] = [\"SimHei\"]\n",
    "pd.set_option('display.max_columns', None)\n",
    "pd.set_option('display.max_rows', None)"
   ]
  },
  {
   "cell_type": "code",
   "execution_count": 2,
   "id": "ae3ab3c7",
   "metadata": {},
   "outputs": [],
   "source": [
    "#match_df = pd.read_csv(r\"F:\\大四\\tennis_predicton\\processed_data\\match_df_20_24.csv\",low_memory=False)\n",
    "match_df = pd.read_csv(r\"..\\dataset\\processed_data\\match_df_20_24_symmetry.csv\",low_memory=False)"
   ]
  },
  {
   "cell_type": "code",
   "execution_count": 3,
   "id": "5aaab28d",
   "metadata": {},
   "outputs": [
    {
     "data": {
      "text/plain": [
       "Index(['tourney_id', 'tourney_date', 'round_code', 'best_of', 'surface_Clay',\n",
       "       'surface_Grass', 'surface_Hard', 'player1_id', 'player2_id', 'result',\n",
       "       'sym_seed_bucket', 'sym_entry', 'sym_host', 'sym_hand', 'sym_ht',\n",
       "       'sym_age', 'sym_elo_before', 'sym_ace', 'sym_df', 'sym_svpt',\n",
       "       'sym_fstIn', 'sym_fstWon', 'sym_sndWon', 'sym_SvGms', 'sym_bpSaved',\n",
       "       'sym_bpFaced', 'sym_ace_rate', 'sym_df_rate', 'sym_serve_win_rate',\n",
       "       'sym_serve_efficiency', 'sym_clutch_ability', 'sym_elo_after',\n",
       "       'sym_sets', 'sym_games', 'sym_ret', 'sym_ace_hist', 'sym_df_hist',\n",
       "       'sym_svpt_hist', 'sym_fstIn_hist', 'sym_fstWon_hist', 'sym_sndWon_hist',\n",
       "       'sym_SvGms_hist', 'sym_bpSaved_hist', 'sym_bpFaced_hist',\n",
       "       'sym_baseline_rally_hist', 'sym_intensity_hist', 'sym_ace_rate_hist',\n",
       "       'sym_df_rate_hist', 'sym_serve_win_rate_hist',\n",
       "       'sym_serve_efficiency_hist', 'sym_clutch_ability_hist'],\n",
       "      dtype='object')"
      ]
     },
     "execution_count": 3,
     "metadata": {},
     "output_type": "execute_result"
    }
   ],
   "source": [
    "match_df.columns"
   ]
  },
  {
   "cell_type": "code",
   "execution_count": 4,
   "id": "aec2e458",
   "metadata": {},
   "outputs": [],
   "source": [
    "from sklearn.preprocessing import StandardScaler\n",
    "\n",
    "# 加载数据（假设数据已准备好）\n",
    "y = match_df[\"result\"]  # 目标变量\n",
    "X = match_df.drop(\"result\", axis=1)\n",
    "\n",
    "# 排除无关特征（如ID、日期等）\n",
    "excluded_cols = [\"tourney_id\", \"tourney_date\",\"player1_id\",\"player2_id\",\n",
    "#                 \"player1_ret\",\"player2_ret\",'player1_sets', 'player1_games','player2_sets', 'player2_games']\n",
    "                 \"sym_ret\",\"sym_ret\",'sym_sets', 'sym_games','sym_sets', 'sym_games']\n",
    "X_filtered = X.drop(excluded_cols, axis=1, errors=\"ignore\")\n",
    "\n",
    "\n",
    "# 标准化数据（对ReliefF非常重要）\n",
    "scaler = StandardScaler()\n",
    "X_scaled = pd.DataFrame(scaler.fit_transform(X_filtered), columns=X_filtered.columns)"
   ]
  },
  {
   "cell_type": "code",
   "execution_count": 5,
   "id": "40a6193e",
   "metadata": {},
   "outputs": [
    {
     "name": "stdout",
     "output_type": "stream",
     "text": [
      "Top 50 Features by Fisher Score:\n",
      "                      feature  fisher_score\n",
      "23         sym_serve_win_rate  18858.513772\n",
      "20                sym_bpFaced   7073.525999\n",
      "16                 sym_fstWon   3690.221918\n",
      "21               sym_ace_rate   1674.407762\n",
      "24       sym_serve_efficiency   1631.932514\n",
      "18                  sym_SvGms   1501.941196\n",
      "19                sym_bpSaved   1285.494001\n",
      "25         sym_clutch_ability   1071.041951\n",
      "12                    sym_ace    974.474921\n",
      "5             sym_seed_bucket    966.916573\n",
      "17                 sym_sndWon    875.914035\n",
      "40    sym_serve_win_rate_hist    705.558347\n",
      "14                   sym_svpt    572.303751\n",
      "13                     sym_df    526.252293\n",
      "35           sym_bpFaced_hist    471.957077\n",
      "26              sym_elo_after    464.861208\n",
      "11             sym_elo_before    464.844293\n",
      "41  sym_serve_efficiency_hist    359.814720\n",
      "22                sym_df_rate    320.939567\n",
      "6                   sym_entry    259.180494\n",
      "34           sym_bpSaved_hist    241.245667\n",
      "9                      sym_ht    155.910113\n",
      "38          sym_ace_rate_hist    110.334148\n",
      "42    sym_clutch_ability_hist     84.659370\n",
      "31            sym_fstWon_hist     83.701591\n",
      "27               sym_ace_hist     71.169941\n",
      "10                    sym_age     58.825446\n",
      "37         sym_intensity_hist     48.501516\n",
      "15                  sym_fstIn     31.745221\n",
      "28                sym_df_hist     16.152053\n",
      "33             sym_SvGms_hist     14.667005\n",
      "29              sym_svpt_hist     13.495528\n",
      "7                    sym_host      8.825116\n",
      "39           sym_df_rate_hist      7.086406\n",
      "32            sym_sndWon_hist      6.452914\n",
      "8                    sym_hand      5.943758\n",
      "1                     best_of      3.060803\n",
      "3               surface_Grass      0.829387\n",
      "4                surface_Hard      0.598381\n",
      "36    sym_baseline_rally_hist      0.295900\n",
      "30             sym_fstIn_hist      0.200179\n",
      "0                  round_code      0.086195\n",
      "2                surface_Clay      0.052698\n"
     ]
    }
   ],
   "source": [
    "from sklearn.feature_selection import SelectKBest, f_classif\n",
    "\n",
    "# 计算每个特征的F-value（Fisher Score）\n",
    "selector = SelectKBest(score_func=f_classif, k=\"all\")\n",
    "selector.fit(X_scaled, y)\n",
    "\n",
    "# 获取特征得分并排序\n",
    "fisher_scores = pd.DataFrame({\n",
    "    \"feature\": X_filtered.columns,\n",
    "    \"fisher_score\": selector.scores_\n",
    "}).sort_values(\"fisher_score\", ascending=False)\n",
    "\n",
    "print(\"Top 50 Features by Fisher Score:\")\n",
    "print(fisher_scores.head(50))"
   ]
  },
  {
   "cell_type": "code",
   "execution_count": 6,
   "id": "b6a6bdae",
   "metadata": {},
   "outputs": [
    {
     "name": "stdout",
     "output_type": "stream",
     "text": [
      "\n",
      "Top 50 Features by ReliefF:\n",
      "                      feature  relieff_score\n",
      "23         sym_serve_win_rate       0.455694\n",
      "20                sym_bpFaced       0.279843\n",
      "16                 sym_fstWon       0.157699\n",
      "19                sym_bpSaved       0.078749\n",
      "18                  sym_SvGms       0.076540\n",
      "24       sym_serve_efficiency       0.057559\n",
      "17                 sym_sndWon       0.052287\n",
      "25         sym_clutch_ability       0.050945\n",
      "14                   sym_svpt       0.049825\n",
      "21               sym_ace_rate       0.043707\n",
      "12                    sym_ace       0.043392\n",
      "5             sym_seed_bucket       0.030408\n",
      "13                     sym_df       0.029878\n",
      "15                  sym_fstIn       0.021983\n",
      "26              sym_elo_after       0.018505\n",
      "11             sym_elo_before       0.018501\n",
      "40    sym_serve_win_rate_hist       0.016684\n",
      "35           sym_bpFaced_hist       0.015134\n",
      "41  sym_serve_efficiency_hist       0.011926\n",
      "34           sym_bpSaved_hist       0.010034\n",
      "6                   sym_entry       0.008446\n",
      "22                sym_df_rate       0.008177\n",
      "1                     best_of       0.004926\n",
      "10                    sym_age       0.004624\n",
      "27               sym_ace_hist       0.004290\n",
      "38          sym_ace_rate_hist       0.003968\n",
      "0                  round_code       0.003164\n",
      "9                      sym_ht       0.002537\n",
      "31            sym_fstWon_hist       0.002289\n",
      "8                    sym_hand       0.000336\n",
      "29              sym_svpt_hist       0.000323\n",
      "42    sym_clutch_ability_hist       0.000287\n",
      "37         sym_intensity_hist       0.000286\n",
      "2                surface_Clay       0.000274\n",
      "3               surface_Grass       0.000207\n",
      "4                surface_Hard       0.000167\n",
      "7                    sym_host       0.000139\n",
      "36    sym_baseline_rally_hist      -0.000008\n",
      "33             sym_SvGms_hist      -0.000214\n",
      "32            sym_sndWon_hist      -0.000746\n",
      "30             sym_fstIn_hist      -0.001540\n",
      "28                sym_df_hist      -0.001557\n",
      "39           sym_df_rate_hist      -0.004045\n"
     ]
    }
   ],
   "source": [
    "from skrebate import ReliefF\n",
    "\n",
    "# 初始化ReliefF（n_neighbors根据数据规模调整）\n",
    "relieff = ReliefF(n_neighbors=100, n_jobs=-1)  # 并行加速\n",
    "relieff.fit(X_scaled.values, y.values)\n",
    "\n",
    "# 获取特征权重并排序\n",
    "relieff_scores = pd.DataFrame({\n",
    "    \"feature\": X_filtered.columns,\n",
    "    \"relieff_score\": relieff.feature_importances_\n",
    "}).sort_values(\"relieff_score\", ascending=False)\n",
    "\n",
    "print(\"\\nTop 50 Features by ReliefF:\")\n",
    "print(relieff_scores.head(50))"
   ]
  },
  {
   "cell_type": "code",
   "execution_count": 7,
   "id": "645890d0",
   "metadata": {},
   "outputs": [
    {
     "name": "stdout",
     "output_type": "stream",
     "text": [
      "\n",
      "Top Combined Features:\n",
      "['sym_serve_win_rate', 'sym_bpFaced', 'sym_fstWon', 'sym_serve_efficiency', 'sym_SvGms', 'sym_bpSaved', 'sym_ace_rate', 'sym_clutch_ability', 'sym_sndWon', 'sym_ace', 'sym_seed_bucket', 'sym_svpt', 'sym_df', 'sym_serve_win_rate_hist', 'sym_elo_after', 'sym_bpFaced_hist', 'sym_elo_before', 'sym_serve_efficiency_hist', 'sym_df_rate', 'sym_entry']\n"
     ]
    }
   ],
   "source": [
    "# 合并两个得分表\n",
    "combined_scores = pd.merge(\n",
    "    fisher_scores, \n",
    "    relieff_scores, \n",
    "    on=\"feature\", \n",
    "    suffixes=('_fisher', '_relieff')\n",
    ")\n",
    "\n",
    "# 标准化得分并计算综合权重\n",
    "combined_scores[\"combined_score\"] = (\n",
    "    combined_scores[\"fisher_score\"].rank() + \n",
    "    combined_scores[\"relieff_score\"].rank()\n",
    ")\n",
    "\n",
    "# 按综合得分排序\n",
    "final_features = combined_scores.sort_values(\n",
    "    \"combined_score\", ascending=False\n",
    ").head(20)[\"feature\"].tolist()\n",
    "\n",
    "print(\"\\nTop Combined Features:\")\n",
    "print(final_features)"
   ]
  },
  {
   "cell_type": "code",
   "execution_count": null,
   "id": "faec80f1",
   "metadata": {},
   "outputs": [],
   "source": []
  },
  {
   "cell_type": "code",
   "execution_count": null,
   "id": "d43f6ca8",
   "metadata": {},
   "outputs": [],
   "source": []
  },
  {
   "cell_type": "code",
   "execution_count": null,
   "id": "f9fd475d",
   "metadata": {},
   "outputs": [],
   "source": []
  }
 ],
 "metadata": {
  "kernelspec": {
   "display_name": "Python 3 (ipykernel)",
   "language": "python",
   "name": "python3"
  },
  "language_info": {
   "codemirror_mode": {
    "name": "ipython",
    "version": 3
   },
   "file_extension": ".py",
   "mimetype": "text/x-python",
   "name": "python",
   "nbconvert_exporter": "python",
   "pygments_lexer": "ipython3",
   "version": "3.8.20"
  }
 },
 "nbformat": 4,
 "nbformat_minor": 5
}
