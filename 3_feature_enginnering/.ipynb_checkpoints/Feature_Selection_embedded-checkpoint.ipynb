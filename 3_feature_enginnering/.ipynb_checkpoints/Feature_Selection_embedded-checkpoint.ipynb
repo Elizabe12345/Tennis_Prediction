{
 "cells": [
  {
   "cell_type": "code",
   "execution_count": 1,
   "id": "5a148406",
   "metadata": {},
   "outputs": [],
   "source": [
    "import pandas as pd\n",
    "import matplotlib.pyplot as plt\n",
    "import seaborn as sns\n",
    "import os\n",
    "from pylab import mpl\n",
    "import numpy as np\n",
    "from sklearn.model_selection import train_test_split\n",
    "from sklearn.preprocessing import StandardScaler\n",
    "# 设置显示中文字体\n",
    "mpl.rcParams[\"font.sans-serif\"] = [\"SimHei\"]\n",
    "pd.set_option('display.max_columns', None)\n",
    "pd.set_option('display.max_rows', None)"
   ]
  },
  {
   "cell_type": "code",
   "execution_count": 2,
   "id": "d9d798aa",
   "metadata": {},
   "outputs": [],
   "source": [
    "match_df = pd.read_csv(r\"F:\\大四\\tennis_predicton\\processed_data\\match_df_20_24.csv\",low_memory=False)"
   ]
  },
  {
   "cell_type": "code",
   "execution_count": 3,
   "id": "b1097071",
   "metadata": {},
   "outputs": [],
   "source": [
    "y = match_df[\"result\"]  # 目标变量\n",
    "X = match_df.drop([\"result\", \"tourney_id\", \"tourney_date\",\"player1_id\",\"player2_id\",\n",
    "                   \"player1_ret\",\"player2_ret\",'player1_sets', 'player1_games','player2_sets', 'player2_games'], axis=1)  # 移除无关特征\n",
    "\n",
    "# 处理缺失值（示例：用均值填充）\n",
    "X = X.fillna(X.mean())\n",
    "\n",
    "# 标准化数据（对L1正则化等线性模型重要）\n",
    "scaler = StandardScaler()\n",
    "X_scaled = pd.DataFrame(scaler.fit_transform(X), columns=X.columns)\n",
    "\n",
    "# 划分训练集和验证集\n",
    "X_train, X_val, y_train, y_val = train_test_split(X_scaled, y, test_size=0.2, random_state=42)"
   ]
  },
  {
   "cell_type": "code",
   "execution_count": 4,
   "id": "957d1db6",
   "metadata": {},
   "outputs": [
    {
     "name": "stdout",
     "output_type": "stream",
     "text": [
      "L1 Selected Features: ['surface_Hard', 'player1_entry', 'player1_host', 'player1_hand', 'player1_ht', 'player1_elo_before', 'player1_df', 'player1_fstIn', 'player1_fstWon', 'player1_sndWon', 'player1_bpFaced', 'player1_serve_win_rate', 'player1_serve_efficiency', 'player1_clutch_ability', 'player1_elo_after', 'player1_df_hist', 'player1_fstIn_hist', 'player1_bpFaced_hist', 'player1_serve_efficiency_hist', 'player2_ht', 'player2_age', 'player2_df', 'player2_fstIn', 'player2_fstWon', 'player2_sndWon', 'player2_bpSaved', 'player2_bpFaced', 'player2_serve_win_rate', 'player2_serve_efficiency', 'player2_clutch_ability', 'player2_sndWon_hist', 'player2_bpSaved_hist', 'player2_serve_efficiency_hist', 'player2_clutch_ability_hist']\n",
      "Number of Selected Features: 34\n"
     ]
    }
   ],
   "source": [
    "from sklearn.linear_model import LogisticRegression\n",
    "\n",
    "# 使用L1正则化的逻辑回归\n",
    "lasso_model = LogisticRegression(\n",
    "    penalty=\"l1\",         # L1正则化\n",
    "    C=0.1,                # 正则化强度（C越小，惩罚越强）\n",
    "    solver=\"saga\",        # 支持L1的优化器\n",
    "    max_iter=2000,\n",
    "    random_state=42\n",
    ")\n",
    "lasso_model.fit(X_train, y_train)\n",
    "\n",
    "# 提取非零系数对应的特征\n",
    "selected_features_l1 = X.columns[np.abs(lasso_model.coef_[0]) > 0].tolist()\n",
    "print(\"L1 Selected Features:\", selected_features_l1)\n",
    "print(\"Number of Selected Features:\", len(selected_features_l1))"
   ]
  },
  {
   "cell_type": "code",
   "execution_count": 5,
   "id": "59de9eee",
   "metadata": {},
   "outputs": [
    {
     "name": "stdout",
     "output_type": "stream",
     "text": [
      "\n",
      "RandomForest Selected Features: ['player1_serve_win_rate', 'player2_serve_win_rate', 'player2_bpFaced', 'player1_bpFaced', 'player2_clutch_ability', 'player1_clutch_ability', 'player2_fstWon', 'intensity', 'player2_bpSaved', 'player1_fstWon', 'player1_serve_efficiency', 'player2_serve_efficiency', 'player1_bpSaved', 'player2_ace_rate', 'player1_ace_rate', 'player2_sndWon', 'player1_svpt']\n"
     ]
    }
   ],
   "source": [
    "from sklearn.ensemble import RandomForestClassifier\n",
    "\n",
    "# 训练随机森林模型\n",
    "rf_model = RandomForestClassifier(n_estimators=100, random_state=42)\n",
    "rf_model.fit(X_train, y_train)\n",
    "\n",
    "# 提取特征重要性\n",
    "feature_importances = pd.DataFrame({\n",
    "    \"feature\": X.columns,\n",
    "    \"importance\": rf_model.feature_importances_\n",
    "}).sort_values(\"importance\", ascending=False)\n",
    "\n",
    "# 选择重要性高于阈值的特征（示例：取Top 20）\n",
    "threshold = np.percentile(feature_importances[\"importance\"], 80)  # 取前20%\n",
    "selected_features_rf = feature_importances[feature_importances[\"importance\"] > threshold][\"feature\"].tolist()\n",
    "print(\"\\nRandomForest Selected Features:\", selected_features_rf)"
   ]
  },
  {
   "cell_type": "code",
   "execution_count": 6,
   "id": "c30d1dd9",
   "metadata": {},
   "outputs": [
    {
     "name": "stdout",
     "output_type": "stream",
     "text": [
      "\n",
      "XGBoost Selected Features: ['player2_serve_win_rate', 'player1_serve_win_rate', 'best_of', 'player1_clutch_ability', 'player2_clutch_ability', 'player2_serve_efficiency', 'player1_fstWon', 'player1_serve_efficiency', 'player2_fstWon', 'player1_svpt', 'player2_svpt', 'surface_Hard', 'player1_bpFaced', 'player2_bpFaced', 'player2_df']\n"
     ]
    }
   ],
   "source": [
    "import xgboost as xgb\n",
    "\n",
    "# 训练XGBoost模型\n",
    "xgb_model = xgb.XGBClassifier(n_estimators=100, random_state=42)\n",
    "xgb_model.fit(X_train, y_train)\n",
    "\n",
    "# 获取特征重要性（'weight'表示特征被使用的次数）\n",
    "feature_importances_xgb = pd.DataFrame({\n",
    "    \"feature\": X.columns,\n",
    "    \"importance\": xgb_model.feature_importances_\n",
    "}).sort_values(\"importance\", ascending=False)\n",
    "\n",
    "# 选择Top N特征（例如Top 15）\n",
    "selected_features_xgb = feature_importances_xgb.head(15)[\"feature\"].tolist()\n",
    "print(\"\\nXGBoost Selected Features:\", selected_features_xgb)"
   ]
  },
  {
   "cell_type": "code",
   "execution_count": 7,
   "id": "5ae8c9e3",
   "metadata": {},
   "outputs": [
    {
     "name": "stdout",
     "output_type": "stream",
     "text": [
      "\n",
      "Validation Accuracy with Selected Features: 0.9407\n",
      "Validation Accuracy with All Features: 0.9448\n"
     ]
    }
   ],
   "source": [
    "# 合并不同方法选出的特征\n",
    "final_features = list(\n",
    "    set(selected_features_l1 + selected_features_rf + selected_features_xgb)\n",
    ")\n",
    "\n",
    "# 训练最终模型（以XGBoost为例）\n",
    "final_model = xgb.XGBClassifier(n_estimators=100, random_state=42)\n",
    "final_model.fit(X_train[final_features], y_train)\n",
    "\n",
    "# 验证集性能\n",
    "val_acc = final_model.score(X_val[final_features], y_val)\n",
    "print(f\"\\nValidation Accuracy with Selected Features: {val_acc:.4f}\")\n",
    "\n",
    "# 对比全特征模型\n",
    "full_model = xgb.XGBClassifier(n_estimators=100, random_state=42)\n",
    "full_model.fit(X_train, y_train)\n",
    "full_acc = full_model.score(X_val, y_val)\n",
    "print(f\"Validation Accuracy with All Features: {full_acc:.4f}\")"
   ]
  },
  {
   "cell_type": "code",
   "execution_count": null,
   "id": "2db6f4c3",
   "metadata": {},
   "outputs": [],
   "source": []
  }
 ],
 "metadata": {
  "kernelspec": {
   "display_name": "Python 3 (ipykernel)",
   "language": "python",
   "name": "python3"
  },
  "language_info": {
   "codemirror_mode": {
    "name": "ipython",
    "version": 3
   },
   "file_extension": ".py",
   "mimetype": "text/x-python",
   "name": "python",
   "nbconvert_exporter": "python",
   "pygments_lexer": "ipython3",
   "version": "3.8.17"
  }
 },
 "nbformat": 4,
 "nbformat_minor": 5
}
