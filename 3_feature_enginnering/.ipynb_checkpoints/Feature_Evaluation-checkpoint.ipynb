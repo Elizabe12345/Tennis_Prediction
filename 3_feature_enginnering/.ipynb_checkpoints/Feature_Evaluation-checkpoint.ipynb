{
 "cells": [
  {
   "cell_type": "code",
   "execution_count": 1,
   "id": "8332a702",
   "metadata": {},
   "outputs": [],
   "source": [
    "import shap\n",
    "import numpy as np\n",
    "import pandas as pd\n",
    "from sklearn.model_selection import train_test_split\n",
    "from sklearn.preprocessing import StandardScaler\n",
    "from sklearn.linear_model import LogisticRegression\n",
    "from sklearn.tree import DecisionTreeClassifier\n",
    "from sklearn.neural_network import MLPClassifier\n",
    "import matplotlib.pyplot as plt\n",
    "import seaborn as sns\n",
    "import os\n",
    "from pylab import mpl\n",
    "# 设置显示中文字体\n",
    "mpl.rcParams[\"font.sans-serif\"] = [\"SimHei\"]\n",
    "pd.set_option('display.max_columns', None)\n",
    "pd.set_option('display.max_rows', None)"
   ]
  },
  {
   "cell_type": "code",
   "execution_count": 3,
   "id": "ec34d106",
   "metadata": {},
   "outputs": [],
   "source": [
    "#match_df = pd.read_csv(r\"F:\\大四\\tennis_predicton\\processed_data\\match_df_20_24.csv\",low_memory=False)\n",
    "match_df = pd.read_csv(r\"..\\dataset\\processed_data\\match_df_20_24_symmetry.csv\",low_memory=False)"
   ]
  },
  {
   "cell_type": "code",
   "execution_count": 4,
   "id": "156d9087",
   "metadata": {},
   "outputs": [],
   "source": [
    "# 选取特征和目标变量\n",
    "features = [ 'round_code', 'best_of', 'surface_Clay', \n",
    "       'surface_Grass', 'surface_Hard',  'result',\n",
    "       'sym_seed_bucket', 'sym_entry', 'sym_host', 'sym_hand', 'sym_ht',\n",
    "       'sym_age', 'sym_elo_before', 'sym_ace', 'sym_df', 'sym_svpt',\n",
    "       'sym_fstIn', 'sym_fstWon', 'sym_sndWon', 'sym_SvGms', 'sym_bpSaved',\n",
    "       'sym_bpFaced', 'sym_ace_rate', 'sym_df_rate', 'sym_serve_win_rate',\n",
    "       'sym_serve_efficiency', 'sym_clutch_ability', 'sym_elo_after',\n",
    "       'sym_sets', 'sym_games', 'sym_ret', 'sym_ace_hist', 'sym_df_hist',\n",
    "       'sym_svpt_hist', 'sym_fstIn_hist', 'sym_fstWon_hist', 'sym_sndWon_hist',\n",
    "       'sym_SvGms_hist', 'sym_bpSaved_hist', 'sym_bpFaced_hist',\n",
    "       'sym_baseline_rally_hist', 'sym_intensity_hist', 'sym_ace_rate_hist',\n",
    "       'sym_df_rate_hist', 'sym_serve_win_rate_hist',\n",
    "       'sym_serve_efficiency_hist', 'sym_clutch_ability_hist']\n",
    "\n",
    "X = match_df[features]\n",
    "y = match_df['result']  # 目标变量\n",
    "\n",
    "# 训练集和测试集划分\n",
    "X_train, X_test, y_train, y_test = train_test_split(X, y, test_size=0.2, random_state=42)\n",
    "\n",
    "# 由于逻辑回归和 ANN 需要标准化数据，我们先进行标准化\n",
    "scaler = StandardScaler()\n",
    "X_train_scaled = scaler.fit_transform(X_train)\n",
    "X_test_scaled = scaler.transform(X_test)"
   ]
  },
  {
   "cell_type": "code",
   "execution_count": null,
   "id": "bce04579",
   "metadata": {},
   "outputs": [],
   "source": []
  }
 ],
 "metadata": {
  "kernelspec": {
   "display_name": "Python 3 (ipykernel)",
   "language": "python",
   "name": "python3"
  },
  "language_info": {
   "codemirror_mode": {
    "name": "ipython",
    "version": 3
   },
   "file_extension": ".py",
   "mimetype": "text/x-python",
   "name": "python",
   "nbconvert_exporter": "python",
   "pygments_lexer": "ipython3",
   "version": "3.8.20"
  }
 },
 "nbformat": 4,
 "nbformat_minor": 5
}
