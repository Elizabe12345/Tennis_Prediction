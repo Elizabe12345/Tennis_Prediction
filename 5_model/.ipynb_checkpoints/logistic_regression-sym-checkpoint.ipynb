{
 "cells": [
  {
   "cell_type": "code",
   "execution_count": 1,
   "id": "6fa68058-8375-41c9-a893-fb8647c0c9b9",
   "metadata": {},
   "outputs": [],
   "source": [
    "import pandas as pd\n",
    "import numpy as np\n",
    "from sklearn.model_selection import train_test_split\n",
    "from sklearn.preprocessing import StandardScaler\n",
    "from sklearn.linear_model import LogisticRegression\n",
    "from sklearn.metrics import accuracy_score, classification_report, roc_auc_score, roc_curve\n",
    "import matplotlib.pyplot as plt\n",
    "pd.set_option('display.max_columns', None)\n",
    "pd.set_option('display.max_rows', None)"
   ]
  },
  {
   "cell_type": "code",
   "execution_count": 2,
   "id": "1096259b-2803-4048-bd40-a52943921ac8",
   "metadata": {},
   "outputs": [],
   "source": [
    "match_df = pd.read_csv(r\"..\\dataset\\processed_data_1\\match_df_20_24_symmetry.csv\",low_memory=False)"
   ]
  },
  {
   "cell_type": "code",
   "execution_count": 3,
   "id": "5a8649ef-7a7f-4e14-a165-e98342bb06d0",
   "metadata": {},
   "outputs": [],
   "source": [
    "match_df= match_df.dropna()"
   ]
  },
  {
   "cell_type": "code",
   "execution_count": 4,
   "id": "f49226c9-51c2-411c-80fe-2c7cd3e1535c",
   "metadata": {},
   "outputs": [
    {
     "name": "stdout",
     "output_type": "stream",
     "text": [
      "['tourney_id', 'tourney_date', 'round_code', 'best_of', 'surface_Clay', 'surface_Grass', 'surface_Hard', 'player1_id', 'player2_id', 'result', 'sym_index', 'sym_seed_bucket', 'sym_entry', 'sym_host', 'sym_hand', 'sym_ht', 'sym_age', 'sym_rank', 'sym_rank_points', 'sym_elo', 'sym_ace', 'sym_df', 'sym_svpt', 'sym_fstIn', 'sym_fstWon', 'sym_sndWon', 'sym_SvGms', 'sym_bpSaved', 'sym_bpFaced', 'sym_ace_rate', 'sym_df_rate', 'sym_serve_win_rate', 'sym_serve_efficiency', 'sym_clutch_ability', 'sym_o_seed_bucket', 'sym_o_entry', 'sym_o_host', 'sym_o_hand', 'sym_o_ht', 'sym_o_age', 'sym_o_rank', 'sym_o_rank_points', 'sym_o_ace', 'sym_o_df', 'sym_o_svpt', 'sym_o_fstIn', 'sym_o_fstWon', 'sym_o_sndWon', 'sym_o_SvGms', 'sym_o_bpSaved', 'sym_o_bpFaced', 'sym_o_ace_rate', 'sym_o_df_rate', 'sym_o_serve_win_rate', 'sym_o_serve_efficiency', 'sym_o_clutch_ability', 'sym_o_sets', 'sym_o_games', 'sym_o_elo', 'sym_ace_hist', 'sym_df_hist', 'sym_svpt_hist', 'sym_fstIn_hist', 'sym_fstWon_hist', 'sym_sndWon_hist', 'sym_SvGms_hist', 'sym_bpSaved_hist', 'sym_bpFaced_hist', 'sym_baseline_rally_hist', 'sym_intensity_hist', 'sym_ace_rate_hist', 'sym_df_rate_hist', 'sym_serve_win_rate_hist', 'sym_serve_efficiency_hist', 'sym_clutch_ability_hist', 'sym_ace_hist_e', 'sym_df_hist_e', 'sym_svpt_hist_e', 'sym_fstIn_hist_e', 'sym_fstWon_hist_e', 'sym_sndWon_hist_e', 'sym_SvGms_hist_e', 'sym_bpSaved_hist_e', 'sym_bpFaced_hist_e', 'sym_baseline_rally_hist_e', 'sym_intensity_hist_e', 'sym_ace_rate_hist_e', 'sym_df_rate_hist_e', 'sym_serve_win_rate_hist_e', 'sym_serve_efficiency_hist_e', 'sym_clutch_ability_hist_e', 'sym_o_seed_bucket_histo', 'sym_o_entry_histo', 'sym_o_host_histo', 'sym_o_hand_histo', 'sym_o_ht_histo', 'sym_o_age_histo', 'sym_o_rank_histo', 'sym_o_rank_points_histo', 'sym_o_ace_histo', 'sym_o_df_histo', 'sym_o_svpt_histo', 'sym_o_fstIn_histo', 'sym_o_fstWon_histo', 'sym_o_sndWon_histo', 'sym_o_SvGms_histo', 'sym_o_bpSaved_histo', 'sym_o_bpFaced_histo', 'sym_o_ace_rate_histo', 'sym_o_df_rate_histo', 'sym_o_serve_win_rate_histo', 'sym_o_serve_efficiency_histo', 'sym_o_clutch_ability_histo', 'sym_o_elo_histo', 'sym_baseline_rally_histo', 'sym_intensity_histo']\n"
     ]
    }
   ],
   "source": [
    "print(match_df.columns.tolist())"
   ]
  },
  {
   "cell_type": "code",
   "execution_count": 30,
   "id": "b570ed56-dd63-4b45-b6f1-336ef320b74b",
   "metadata": {},
   "outputs": [],
   "source": [
    "hist_features = [col for col in match_df.columns if col.endswith('_hist')]\n",
    "hist_e_features = [col for col in match_df.columns if col.endswith('_hist_e')]\n",
    "histo_features = [col for col in match_df.columns if col.endswith('_histo')]\n",
    "elo_features = ['sym_elo']\n",
    "rank_features = [ 'sym_rank', 'sym_rank_points']\n",
    "supplement_features = ['round_code', 'best_of', 'surface_Clay', 'surface_Grass',\n",
    "                       'surface_Hard','sym_seed_bucket',\n",
    "                       'sym_entry', 'sym_host', 'sym_hand', 'sym_ht', 'sym_age']\n",
    "\n",
    "features = hist_features + hist_e_features + histo_features + elo_features + rank_features + supplement_features\n",
    "continuous_features = hist_features + hist_e_features + histo_features + elo_features + rank_features + [\n",
    "    'sym_ht', 'sym_age']\n",
    "X = match_df[features]\n",
    "y = match_df['result']"
   ]
  },
  {
   "cell_type": "code",
   "execution_count": 31,
   "id": "461c8806-f036-4587-80f8-01c2acbc5010",
   "metadata": {},
   "outputs": [],
   "source": [
    "# 显式创建 X 的副本，防止 SettingWithCopyWarning\n",
    "X = match_df[features].copy()\n",
    "\n",
    "# 归一化数值特征\n",
    "scaler = StandardScaler()\n",
    "X[continuous_features] = scaler.fit_transform(X[continuous_features])"
   ]
  },
  {
   "cell_type": "code",
   "execution_count": 7,
   "id": "23a3a91c-9679-47a3-9afc-efaa81af14be",
   "metadata": {},
   "outputs": [],
   "source": [
    "#X = pd.get_dummies(X, columns=['sym_entry', 'sym_hand', 'sym_host','round_code', 'best_of','sym_seed_bucket'], drop_first=True)"
   ]
  },
  {
   "cell_type": "markdown",
   "id": "6a80e3ee-8d18-4520-98ec-6b341224e112",
   "metadata": {},
   "source": [
    "match_df['year'] = pd.to_datetime(match_df['tourney_date'], format='%Y-%m-%d').dt.year\n",
    "train_mask = match_df['year'].between(2020, 2023)\n",
    "test_mask = (match_df['year'] == 2024)\n",
    "\n",
    "X_train, X_test = X[train_mask], X[test_mask]\n",
    "y = match_df['result']\n",
    "y_train = y[train_mask]\n",
    "y_test = y[test_mask]"
   ]
  },
  {
   "cell_type": "code",
   "execution_count": 32,
   "id": "e5778c2f-1797-43f5-a7df-e4ecfbe5a92d",
   "metadata": {},
   "outputs": [],
   "source": [
    "X_train, X_test, y_train, y_test = train_test_split(X, y, test_size=0.2, random_state=42)"
   ]
  },
  {
   "cell_type": "code",
   "execution_count": 11,
   "id": "5485f9e2-8008-47a6-b79a-b385a9ed5ba2",
   "metadata": {},
   "outputs": [],
   "source": [
    "#按时序年份训练\n",
    "match_df['year'] = pd.to_datetime(match_df['tourney_date'], format='%Y-%m-%d').dt.year\n",
    "train_mask = match_df['year'].between(2020, 2023)\n",
    "test_mask = (match_df['year'] == 2024)\n",
    "\n",
    "X_train, X_test = X[train_mask], X[test_mask]\n",
    "y = match_df['result']\n",
    "y_train = y[train_mask]\n",
    "y_test = y[test_mask]"
   ]
  },
  {
   "cell_type": "code",
   "execution_count": 14,
   "id": "1312923a-dbf8-40c3-94fd-0356aa5de935",
   "metadata": {},
   "outputs": [],
   "source": [
    "#时序交叉验证\n",
    "from sklearn.model_selection import TimeSeriesSplit\n",
    "\n",
    "tscv = TimeSeriesSplit(n_splits=5)\n",
    "for train_index, test_index in tscv.split(X):\n",
    "    X_train, X_test = X.iloc[train_index], X.iloc[test_index]\n",
    "    y_train, y_test = y.iloc[train_index], y.iloc[test_index]"
   ]
  },
  {
   "cell_type": "code",
   "execution_count": 18,
   "id": "339a8caf-eda4-4b1e-b8ca-25c96550b183",
   "metadata": {},
   "outputs": [],
   "source": [
    "# 计算特征与年份的相关性\n",
    "year_corr = pd.DataFrame({\n",
    "    'feature': X.columns,\n",
    "    'corr_with_year': [np.corrcoef(X[col], match_df['year'])[0,1] for col in X.columns]\n",
    "})\n",
    "\n",
    "# 筛选时序敏感特征（|相关性|>0.3）\n",
    "dynamic_features = year_corr[abs(year_corr['corr_with_year']) > 0.3]['feature'].tolist()"
   ]
  },
  {
   "cell_type": "code",
   "execution_count": 33,
   "id": "374a5afe-dd3f-454e-9d33-751f53a4dd78",
   "metadata": {},
   "outputs": [
    {
     "data": {
      "text/plain": [
       "LogisticRegression(C=0.01, class_weight=None, dual=False, fit_intercept=True,\n",
       "                   intercept_scaling=1, l1_ratio=None, max_iter=100,\n",
       "                   multi_class='auto', n_jobs=None, penalty='l2',\n",
       "                   random_state=None, solver='liblinear', tol=0.0001, verbose=0,\n",
       "                   warm_start=False)"
      ]
     },
     "execution_count": 33,
     "metadata": {},
     "output_type": "execute_result"
    }
   ],
   "source": [
    "model = LogisticRegression(solver='liblinear', penalty='l2', C=0.01)\n",
    "model.fit(X_train, y_train)"
   ]
  },
  {
   "cell_type": "code",
   "execution_count": 34,
   "id": "175325c6-8f35-4ce9-9430-3b1cc746082c",
   "metadata": {},
   "outputs": [
    {
     "name": "stdout",
     "output_type": "stream",
     "text": [
      "Accuracy: 0.6710\n",
      "AUC: 0.7384\n",
      "              precision    recall  f1-score   support\n",
      "\n",
      "           0       0.69      0.68      0.68      1269\n",
      "           1       0.65      0.66      0.66      1166\n",
      "\n",
      "    accuracy                           0.67      2435\n",
      "   macro avg       0.67      0.67      0.67      2435\n",
      "weighted avg       0.67      0.67      0.67      2435\n",
      "\n"
     ]
    }
   ],
   "source": [
    "y_pred = model.predict(X_test)\n",
    "y_prob = model.predict_proba(X_test)[:, 1]  # 概率预测\n",
    "\n",
    "accuracy = accuracy_score(y_test, y_pred)\n",
    "auc = roc_auc_score(y_test, y_prob)\n",
    "\n",
    "print(f'Accuracy: {accuracy:.4f}')\n",
    "print(f'AUC: {auc:.4f}')\n",
    "print(classification_report(y_test, y_pred))\n"
   ]
  },
  {
   "cell_type": "code",
   "execution_count": 17,
   "id": "74e73891-8e39-4b6e-af30-e80446fee4b0",
   "metadata": {},
   "outputs": [
    {
     "name": "stdout",
     "output_type": "stream",
     "text": [
      "Best C: 10\n"
     ]
    }
   ],
   "source": [
    "from sklearn.model_selection import GridSearchCV\n",
    "\n",
    "param_grid = {'C': [0.01, 0.1, 1, 10, 100]}\n",
    "grid_search = GridSearchCV(LogisticRegression(solver='liblinear'), param_grid, cv=5, scoring='accuracy')\n",
    "grid_search.fit(X_train, y_train)\n",
    "\n",
    "best_model = grid_search.best_estimator_\n",
    "print(f'Best C: {grid_search.best_params_[\"C\"]}')\n"
   ]
  },
  {
   "cell_type": "code",
   "execution_count": 12,
   "id": "e119d016-65a9-4893-a600-eaa3305642a7",
   "metadata": {},
   "outputs": [
    {
     "data": {
      "image/png": "[encoded data removed]",
      "text/plain": [
       "<Figure size 640x480 with 1 Axes>"
      ]
     },
     "metadata": {},
     "output_type": "display_data"
    }
   ],
   "source": [
    "fpr, tpr, _ = roc_curve(y_test, y_prob)\n",
    "plt.plot(fpr, tpr, label=f'AUC = {auc:.4f}')\n",
    "plt.xlabel('False Positive Rate')\n",
    "plt.ylabel('True Positive Rate')\n",
    "plt.title('ROC Curve')\n",
    "plt.legend()\n",
    "plt.show()\n"
   ]
  },
  {
   "cell_type": "code",
   "execution_count": null,
   "id": "d4e7483d-f639-46f0-ac1a-803fbcda3dd3",
   "metadata": {},
   "outputs": [],
   "source": []
  },
  {
   "cell_type": "code",
   "execution_count": 26,
   "id": "13279377-03d0-4b62-b626-f54aa8273295",
   "metadata": {},
   "outputs": [
    {
     "name": "stdout",
     "output_type": "stream",
     "text": [
      "Global Test Accuracy: 0.6542\n",
      "\n",
      "Yearly Performance Breakdown:\n",
      "Year 2020 (n=413):\n",
      "  Accuracy: 0.6634\n",
      "  AUC: 0.7192\n",
      "  F1-score: 0.6634\n",
      "Year 2021 (n=762):\n",
      "  Accuracy: 0.6457\n",
      "  AUC: 0.7109\n",
      "  F1-score: 0.6430\n",
      "Year 2022 (n=797):\n",
      "  Accuracy: 0.6625\n",
      "  AUC: 0.7250\n",
      "  F1-score: 0.6625\n",
      "Year 2023 (n=820):\n",
      "  Accuracy: 0.6634\n",
      "  AUC: 0.7294\n",
      "  F1-score: 0.6630\n",
      "Year 2024 (n=860):\n",
      "  Accuracy: 0.6407\n",
      "  AUC: 0.7245\n",
      "  F1-score: 0.6403\n"
     ]
    }
   ],
   "source": [
    "#按年份分层\n",
    "from sklearn.model_selection import train_test_split\n",
    "from sklearn.linear_model import LogisticRegression\n",
    "from sklearn.metrics import accuracy_score, roc_auc_score, classification_report\n",
    "\n",
    "# 创建年份特征\n",
    "match_df['year'] = pd.to_datetime(match_df['tourney_date']).dt.year\n",
    "\n",
    "# 按年份分层抽样划分数据集（所有年份统一划分）\n",
    "X_train, X_test, y_train, y_test = train_test_split(\n",
    "    X, \n",
    "    y,\n",
    "    test_size=0.3,  # 修改测试集比例\n",
    "    stratify=match_df['year'],  # 关键修改点：按年份分层\n",
    "    random_state=42\n",
    ")\n",
    "\n",
    "# 训练全局模型\n",
    "model = LogisticRegression(solver='liblinear', penalty='l2', C=0.01)\n",
    "model.fit(X_train, y_train)\n",
    "\n",
    "# 获取测试集的年份信息\n",
    "test_indices = y_test.index\n",
    "test_years = match_df.loc[test_indices, 'year']\n",
    "\n",
    "# 初始化结果存储\n",
    "results = {}\n",
    "\n",
    "# 分年度评估模型表现\n",
    "for year in test_years.unique():\n",
    "    # 提取该年份的测试样本\n",
    "    year_mask = (test_years == year)\n",
    "    X_year = X_test[year_mask]\n",
    "    y_year = y_test[year_mask]\n",
    "    \n",
    "    # 预测与评估\n",
    "    y_pred = model.predict(X_year)\n",
    "    y_prob = model.predict_proba(X_year)[:, 1]\n",
    "    \n",
    "    # 存储结果\n",
    "    results[year] = {\n",
    "        'accuracy': accuracy_score(y_year, y_pred),\n",
    "        'auc': roc_auc_score(y_year, y_prob),\n",
    "        'support': len(y_year),\n",
    "        'report': classification_report(y_year, y_pred, output_dict=True)\n",
    "    }\n",
    "\n",
    "# 打印格式化结果\n",
    "print(f\"Global Test Accuracy: {accuracy_score(y_test, model.predict(X_test)):.4f}\")\n",
    "print(\"\\nYearly Performance Breakdown:\")\n",
    "for year, metrics in sorted(results.items()):\n",
    "    print(f\"Year {year} (n={metrics['support']}):\")\n",
    "    print(f\"  Accuracy: {metrics['accuracy']:.4f}\")\n",
    "    print(f\"  AUC: {metrics['auc']:.4f}\")\n",
    "    print(f\"  F1-score: {metrics['report']['macro avg']['f1-score']:.4f}\")"
   ]
  },
  {
   "cell_type": "code",
   "execution_count": 35,
   "id": "f5cd6170-0036-4499-aa0d-16ffeb981f94",
   "metadata": {},
   "outputs": [],
   "source": [
    "from sklearn.inspection import permutation_importance\n",
    "import statsmodels.api as sm\n",
    "pd.set_option('display.max_columns', None)\n",
    "pd.set_option('display.max_rows', None)\n",
    "\n",
    "# 方法1：系数绝对值\n",
    "coef_importance = np.abs(model.coef_[0])\n",
    "\n",
    "# 方法2：置换重要性\n",
    "perm_result = permutation_importance(\n",
    "    model, X_test, y_test, n_repeats=30, random_state=42\n",
    ")\n",
    "perm_importance = perm_result.importances_mean"
   ]
  },
  {
   "cell_type": "code",
   "execution_count": 36,
   "id": "687afa4f-2ef7-4a42-bff6-7a5da8497c9b",
   "metadata": {},
   "outputs": [],
   "source": [
    "importance_df = pd.DataFrame({\n",
    "    \"feature\": X.columns,\n",
    "    \"coef_importance\": coef_importance,\n",
    "    \"perm_importance\": perm_importance,\n",
    "})"
   ]
  },
  {
   "cell_type": "code",
   "execution_count": 37,
   "id": "3d50df3c-e363-47c2-af43-4023616f13f9",
   "metadata": {},
   "outputs": [
    {
     "name": "stdout",
     "output_type": "stream",
     "text": [
      "                         feature  coef_importance  perm_importance\n",
      "70                       sym_age         0.355684         0.037139\n",
      "59               sym_rank_points         0.333805         0.018371\n",
      "58                      sym_rank         0.226912         0.013484\n",
      "57                       sym_elo         0.223750         0.006379\n",
      "39       sym_o_rank_points_histo         0.162867         0.008090\n",
      "54               sym_o_elo_histo         0.116645         0.002916\n",
      "51    sym_o_serve_win_rate_histo         0.104600         0.002697\n",
      "66                     sym_entry         0.102206         0.004025\n",
      "13       sym_serve_win_rate_hist         0.090843         0.003162\n",
      "29     sym_serve_win_rate_hist_e         0.078585         0.003751\n",
      "38              sym_o_rank_histo         0.075377         0.001123\n",
      "25     sym_baseline_rally_hist_e         0.065996        -0.000205\n",
      "7               sym_bpSaved_hist         0.065704         0.000424\n",
      "28            sym_df_rate_hist_e         0.065333         0.001711\n",
      "33             sym_o_entry_histo         0.060179         0.001040\n",
      "17                 sym_df_hist_e         0.058281         0.002053\n",
      "63                 surface_Grass         0.057440        -0.001834\n",
      "11             sym_ace_rate_hist         0.055615         0.001246\n",
      "69                        sym_ht         0.053178         0.002861\n",
      "36                sym_o_ht_histo         0.052325         0.001739\n",
      "32       sym_o_seed_bucket_histo         0.047564         0.002642\n",
      "21             sym_sndWon_hist_e         0.046039         0.002998\n",
      "12              sym_df_rate_hist         0.045934         0.001697\n",
      "34              sym_o_host_histo         0.042312         0.000780\n",
      "0                   sym_ace_hist         0.041752         0.001287\n",
      "10            sym_intensity_hist         0.039956         0.001027\n",
      "15       sym_clutch_ability_hist         0.038568         0.000260\n",
      "19              sym_fstIn_hist_e         0.038429         0.001492\n",
      "14     sym_serve_efficiency_hist         0.036598         0.001300\n",
      "8               sym_bpFaced_hist         0.035719         0.000917\n",
      "48           sym_o_bpFaced_histo         0.033108         0.001670\n",
      "23            sym_bpSaved_hist_e         0.032965         0.000684\n",
      "24            sym_bpFaced_hist_e         0.031685         0.000671\n",
      "42              sym_o_svpt_histo         0.030783         0.000903\n",
      "9        sym_baseline_rally_hist         0.028891         0.000356\n",
      "3                 sym_fstIn_hist         0.027899         0.002560\n",
      "4                sym_fstWon_hist         0.027432        -0.000178\n",
      "27           sym_ace_rate_hist_e         0.026694         0.001588\n",
      "44            sym_o_fstWon_histo         0.025571         0.002149\n",
      "55      sym_baseline_rally_histo         0.025073         0.000301\n",
      "52  sym_o_serve_efficiency_histo         0.024552         0.000068\n",
      "50           sym_o_df_rate_histo         0.021600         0.001862\n",
      "56           sym_intensity_histo         0.017874         0.000370\n",
      "26          sym_intensity_hist_e         0.016593         0.000862\n",
      "67                      sym_host         0.016452         0.000438\n",
      "20             sym_fstWon_hist_e         0.015853         0.000739\n",
      "60                    round_code         0.015848        -0.000753\n",
      "31     sym_clutch_ability_hist_e         0.015514         0.000424\n",
      "46             sym_o_SvGms_histo         0.014508         0.000835\n",
      "1                    sym_df_hist         0.013363         0.000835\n",
      "6                 sym_SvGms_hist         0.012925         0.001109\n",
      "68                      sym_hand         0.012759        -0.000739\n",
      "37               sym_o_age_histo         0.012323         0.001574\n",
      "62                  surface_Clay         0.012228        -0.000493\n",
      "30   sym_serve_efficiency_hist_e         0.012056         0.000096\n",
      "64                  surface_Hard         0.011150         0.001081\n",
      "43             sym_o_fstIn_histo         0.010264         0.000575\n",
      "53    sym_o_clutch_ability_histo         0.009999         0.001410\n",
      "22              sym_SvGms_hist_e         0.009361         0.000643\n",
      "40               sym_o_ace_histo         0.008705         0.001287\n",
      "5                sym_sndWon_hist         0.006797        -0.000151\n",
      "41                sym_o_df_histo         0.005706        -0.000534\n",
      "16                sym_ace_hist_e         0.005367         0.000110\n",
      "35              sym_o_hand_histo         0.005356         0.000767\n",
      "65               sym_seed_bucket         0.005106         0.002957\n",
      "18               sym_svpt_hist_e         0.003656         0.000233\n",
      "45            sym_o_sndWon_histo         0.003552         0.000657\n",
      "49          sym_o_ace_rate_histo         0.003433         0.000123\n",
      "2                  sym_svpt_hist         0.001257         0.000397\n",
      "61                       best_of         0.001173        -0.000082\n",
      "47           sym_o_bpSaved_histo         0.000377        -0.000137\n"
     ]
    }
   ],
   "source": [
    "# 按 coef_importance 降序排序（从高到低）\n",
    "importance_df_sorted = importance_df.sort_values(\n",
    "    by=\"coef_importance\",     # 指定排序依据的列\n",
    "    ascending=False,           # 降序排列（值越大越靠前）\n",
    ")\n",
    "\n",
    "# 输出排序后的 DataFrame\n",
    "print(importance_df_sorted)"
   ]
  },
  {
   "cell_type": "code",
   "execution_count": null,
   "id": "d5c77c54-211c-4194-a9cf-2e18cda48790",
   "metadata": {},
   "outputs": [],
   "source": []
  },
  {
   "cell_type": "code",
   "execution_count": null,
   "id": "6396623e-8764-4812-a38b-936bf0f548b4",
   "metadata": {},
   "outputs": [],
   "source": []
  }
 ],
 "metadata": {
  "kernelspec": {
   "display_name": "Python 3 (ipykernel)",
   "language": "python",
   "name": "python3"
  },
  "language_info": {
   "codemirror_mode": {
    "name": "ipython",
    "version": 3
   },
   "file_extension": ".py",
   "mimetype": "text/x-python",
   "name": "python",
   "nbconvert_exporter": "python",
   "pygments_lexer": "ipython3",
   "version": "3.8.20"
  }
 },
 "nbformat": 4,
 "nbformat_minor": 5
}
