{
 "cells": [
  {
   "cell_type": "code",
   "execution_count": 5,
   "id": "6fa68058-8375-41c9-a893-fb8647c0c9b9",
   "metadata": {},
   "outputs": [],
   "source": [
    "import pandas as pd\n",
    "import numpy as np\n",
    "from sklearn.model_selection import train_test_split\n",
    "from sklearn.preprocessing import StandardScaler, OneHotEncoder\n",
    "from sklearn.tree import DecisionTreeClassifier\n",
    "from sklearn.neural_network import MLPClassifier\n",
    "from sklearn.metrics import accuracy_score, classification_report, roc_auc_score\n",
    "import matplotlib.pyplot as plt\n",
    "pd.set_option('display.max_columns', None)\n",
    "pd.set_option('display.max_rows', None)"
   ]
  },
  {
   "cell_type": "code",
   "execution_count": 6,
   "id": "1096259b-2803-4048-bd40-a52943921ac8",
   "metadata": {},
   "outputs": [],
   "source": [
    "match_df = pd.read_csv(r\"..\\dataset\\processed_data_1\\match_df_20_24.csv\",low_memory=False)"
   ]
  },
  {
   "cell_type": "code",
   "execution_count": 7,
   "id": "9126dc4b-a4b6-49fb-99a6-6bbc489d08f8",
   "metadata": {},
   "outputs": [],
   "source": [
    "match_df = match_df.dropna()"
   ]
  },
  {
   "cell_type": "code",
   "execution_count": 10,
   "id": "b570ed56-dd63-4b45-b6f1-336ef320b74b",
   "metadata": {},
   "outputs": [],
   "source": [
    "hist_features = [col for col in match_df.columns if col.endswith('_hist')]\n",
    "hist_e_features = [col for col in match_df.columns if col.endswith('_hist_e')]\n",
    "supplement_features =['round_code','best_of',\n",
    "                      'player1_seed_bucket','player2_seed_bucket',\n",
    "                     'player1_entry', 'player1_host', 'player1_hand', 'player1_ht','player1_age',\n",
    "                      'player2_entry', 'player2_host', 'player2_hand', 'player2_ht', 'player2_age',\n",
    "                      ]\n",
    "elo_features =['player1_elo','player2_elo']\n",
    "rank_features =['player1_rank', 'player1_rank_points','player2_rank', 'player2_rank_points']\n",
    "histo_features = [col for col in match_df.columns if col.endswith('_histo')]\n",
    "\n",
    "#features =hist_features + hist_e_features + supplement_features + elo_features +  rank_features + histo_features\n",
    "features = rank_features \n",
    "# 数值型特征\n",
    "continuous_features = hist_features+hist_e_features+rank_features+histo_features+elo_features+['player1_ht','player1_age','player2_ht', 'player2_age',]\n",
    "# 目标变量\n",
    "X = match_df[features]\n",
    "y = match_df['result']"
   ]
  },
  {
   "cell_type": "code",
   "execution_count": 11,
   "id": "461c8806-f036-4587-80f8-01c2acbc5010",
   "metadata": {},
   "outputs": [
    {
     "ename": "KeyError",
     "evalue": "\"['player1_svpt_hist', 'player1_baseline_rally_histo', 'player2_o_seed_bucket_histo', 'player1_o_host_histo', 'player2_elo', 'player2_baseline_rally_hist', 'player2_o_hand_histo', 'player2_ace_hist_e', 'player2_o_SvGms_histo', 'player2_o_age_histo', 'player1_serve_win_rate_hist_e', 'player2_intensity_histo', 'player2_ace_hist', 'player1_svpt_hist_e', 'player1_ace_rate_hist_e', 'player1_o_bpFaced_histo', 'player2_df_hist_e', 'player1_fstIn_hist_e', 'player1_o_entry_histo', 'player1_o_clutch_ability_histo', 'player2_o_svpt_histo', 'player2_sndWon_hist', 'player1_o_fstIn_histo', 'player2_o_ace_rate_histo', 'player1_o_rank_histo', 'player2_sndWon_hist_e', 'player2_o_df_histo', 'player2_o_bpSaved_histo', 'player2_serve_win_rate_hist', 'player2_serve_efficiency_hist_e', 'player1_SvGms_hist_e', 'player2_o_serve_efficiency_histo', 'player1_df_rate_hist', 'player1_intensity_histo', 'player2_o_rank_points_histo', 'player1_clutch_ability_hist', 'player1_SvGms_hist', 'player2_o_rank_histo', 'player2_o_sndWon_histo', 'player1_ace_hist', 'player2_o_ht_histo', 'player1_df_hist', 'player1_bpSaved_hist', 'player2_o_host_histo', 'player2_fstIn_hist_e', 'player1_age', 'player1_o_svpt_histo', 'player1_o_ace_histo', 'player1_o_sndWon_histo', 'player1_elo', 'player2_o_entry_histo', 'player2_df_hist', 'player1_df_rate_hist_e', 'player2_serve_efficiency_hist', 'player1_bpFaced_hist_e', 'player2_SvGms_hist_e', 'player2_o_fstIn_histo', 'player2_serve_win_rate_hist_e', 'player2_df_rate_hist', 'player2_intensity_hist', 'player2_fstWon_hist', 'player1_o_bpSaved_histo', 'player1_o_df_rate_histo', 'player2_svpt_hist_e', 'player2_o_clutch_ability_histo', 'player1_sndWon_hist_e', 'player1_baseline_rally_hist_e', 'player1_o_fstWon_histo', 'player2_svpt_hist', 'player2_o_serve_win_rate_histo', 'player1_serve_win_rate_hist', 'player1_ace_rate_hist', 'player2_intensity_hist_e', 'player1_df_hist_e', 'player2_df_rate_hist_e', 'player2_o_df_rate_histo', 'player2_age', 'player1_serve_efficiency_hist', 'player1_clutch_ability_hist_e', 'player1_o_serve_win_rate_histo', 'player1_o_hand_histo', 'player2_o_bpFaced_histo', 'player2_ace_rate_hist', 'player1_ht', 'player1_fstIn_hist', 'player1_serve_efficiency_hist_e', 'player1_bpFaced_hist', 'player1_o_ht_histo', 'player1_intensity_hist', 'player2_o_ace_histo', 'player1_o_elo_histo', 'player1_ace_hist_e', 'player1_sndWon_hist', 'player2_baseline_rally_hist_e', 'player1_fstWon_hist_e', 'player2_fstIn_hist', 'player2_ace_rate_hist_e', 'player1_o_df_histo', 'player2_bpSaved_hist', 'player2_clutch_ability_hist_e', 'player1_o_SvGms_histo', 'player1_o_age_histo', 'player2_bpSaved_hist_e', 'player2_clutch_ability_hist', 'player1_o_serve_efficiency_histo', 'player1_o_rank_points_histo', 'player1_intensity_hist_e', 'player2_fstWon_hist_e', 'player1_o_ace_rate_histo', 'player2_baseline_rally_histo', 'player2_SvGms_hist', 'player2_ht', 'player1_baseline_rally_hist', 'player1_o_seed_bucket_histo', 'player1_fstWon_hist', 'player2_o_elo_histo', 'player2_o_fstWon_histo', 'player2_bpFaced_hist', 'player2_bpFaced_hist_e', 'player1_bpSaved_hist_e'] not in index\"",
     "output_type": "error",
     "traceback": [
      "\u001b[1;31m---------------------------------------------------------------------------\u001b[0m",
      "\u001b[1;31mKeyError\u001b[0m                                  Traceback (most recent call last)",
      "Cell \u001b[1;32mIn[11], line 6\u001b[0m\n\u001b[0;32m      4\u001b[0m \u001b[38;5;66;03m# 归一化数值特征\u001b[39;00m\n\u001b[0;32m      5\u001b[0m scaler \u001b[38;5;241m=\u001b[39m StandardScaler()\n\u001b[1;32m----> 6\u001b[0m X[continuous_features] \u001b[38;5;241m=\u001b[39m scaler\u001b[38;5;241m.\u001b[39mfit_transform(\u001b[43mX\u001b[49m\u001b[43m[\u001b[49m\u001b[43mcontinuous_features\u001b[49m\u001b[43m]\u001b[49m)\n",
      "File \u001b[1;32mE:\\Anaconda\\envs\\statistic\\lib\\site-packages\\pandas\\core\\frame.py:3001\u001b[0m, in \u001b[0;36mDataFrame.__getitem__\u001b[1;34m(self, key)\u001b[0m\n\u001b[0;32m   2999\u001b[0m     \u001b[38;5;28;01mif\u001b[39;00m is_iterator(key):\n\u001b[0;32m   3000\u001b[0m         key \u001b[38;5;241m=\u001b[39m \u001b[38;5;28mlist\u001b[39m(key)\n\u001b[1;32m-> 3001\u001b[0m     indexer \u001b[38;5;241m=\u001b[39m \u001b[38;5;28;43mself\u001b[39;49m\u001b[38;5;241;43m.\u001b[39;49m\u001b[43mloc\u001b[49m\u001b[38;5;241;43m.\u001b[39;49m\u001b[43m_convert_to_indexer\u001b[49m\u001b[43m(\u001b[49m\u001b[43mkey\u001b[49m\u001b[43m,\u001b[49m\u001b[43m \u001b[49m\u001b[43maxis\u001b[49m\u001b[38;5;241;43m=\u001b[39;49m\u001b[38;5;241;43m1\u001b[39;49m\u001b[43m,\u001b[49m\u001b[43m \u001b[49m\u001b[43mraise_missing\u001b[49m\u001b[38;5;241;43m=\u001b[39;49m\u001b[38;5;28;43;01mTrue\u001b[39;49;00m\u001b[43m)\u001b[49m\n\u001b[0;32m   3003\u001b[0m \u001b[38;5;66;03m# take() does not accept boolean indexers\u001b[39;00m\n\u001b[0;32m   3004\u001b[0m \u001b[38;5;28;01mif\u001b[39;00m \u001b[38;5;28mgetattr\u001b[39m(indexer, \u001b[38;5;124m\"\u001b[39m\u001b[38;5;124mdtype\u001b[39m\u001b[38;5;124m\"\u001b[39m, \u001b[38;5;28;01mNone\u001b[39;00m) \u001b[38;5;241m==\u001b[39m \u001b[38;5;28mbool\u001b[39m:\n",
      "File \u001b[1;32mE:\\Anaconda\\envs\\statistic\\lib\\site-packages\\pandas\\core\\indexing.py:1285\u001b[0m, in \u001b[0;36m_NDFrameIndexer._convert_to_indexer\u001b[1;34m(self, obj, axis, is_setter, raise_missing)\u001b[0m\n\u001b[0;32m   1282\u001b[0m     \u001b[38;5;28;01melse\u001b[39;00m:\n\u001b[0;32m   1283\u001b[0m         \u001b[38;5;66;03m# When setting, missing keys are not allowed, even with .loc:\u001b[39;00m\n\u001b[0;32m   1284\u001b[0m         kwargs \u001b[38;5;241m=\u001b[39m {\u001b[38;5;124m\"\u001b[39m\u001b[38;5;124mraise_missing\u001b[39m\u001b[38;5;124m\"\u001b[39m: \u001b[38;5;28;01mTrue\u001b[39;00m \u001b[38;5;28;01mif\u001b[39;00m is_setter \u001b[38;5;28;01melse\u001b[39;00m raise_missing}\n\u001b[1;32m-> 1285\u001b[0m         \u001b[38;5;28;01mreturn\u001b[39;00m \u001b[38;5;28;43mself\u001b[39;49m\u001b[38;5;241;43m.\u001b[39;49m\u001b[43m_get_listlike_indexer\u001b[49m\u001b[43m(\u001b[49m\u001b[43mobj\u001b[49m\u001b[43m,\u001b[49m\u001b[43m \u001b[49m\u001b[43maxis\u001b[49m\u001b[43m,\u001b[49m\u001b[43m \u001b[49m\u001b[38;5;241;43m*\u001b[39;49m\u001b[38;5;241;43m*\u001b[39;49m\u001b[43mkwargs\u001b[49m\u001b[43m)\u001b[49m[\u001b[38;5;241m1\u001b[39m]\n\u001b[0;32m   1286\u001b[0m \u001b[38;5;28;01melse\u001b[39;00m:\n\u001b[0;32m   1287\u001b[0m     \u001b[38;5;28;01mtry\u001b[39;00m:\n",
      "File \u001b[1;32mE:\\Anaconda\\envs\\statistic\\lib\\site-packages\\pandas\\core\\indexing.py:1091\u001b[0m, in \u001b[0;36m_NDFrameIndexer._get_listlike_indexer\u001b[1;34m(self, key, axis, raise_missing)\u001b[0m\n\u001b[0;32m   1088\u001b[0m \u001b[38;5;28;01melse\u001b[39;00m:\n\u001b[0;32m   1089\u001b[0m     keyarr, indexer, new_indexer \u001b[38;5;241m=\u001b[39m ax\u001b[38;5;241m.\u001b[39m_reindex_non_unique(keyarr)\n\u001b[1;32m-> 1091\u001b[0m \u001b[38;5;28;43mself\u001b[39;49m\u001b[38;5;241;43m.\u001b[39;49m\u001b[43m_validate_read_indexer\u001b[49m\u001b[43m(\u001b[49m\n\u001b[0;32m   1092\u001b[0m \u001b[43m    \u001b[49m\u001b[43mkeyarr\u001b[49m\u001b[43m,\u001b[49m\u001b[43m \u001b[49m\u001b[43mindexer\u001b[49m\u001b[43m,\u001b[49m\u001b[43m \u001b[49m\u001b[43mo\u001b[49m\u001b[38;5;241;43m.\u001b[39;49m\u001b[43m_get_axis_number\u001b[49m\u001b[43m(\u001b[49m\u001b[43maxis\u001b[49m\u001b[43m)\u001b[49m\u001b[43m,\u001b[49m\u001b[43m \u001b[49m\u001b[43mraise_missing\u001b[49m\u001b[38;5;241;43m=\u001b[39;49m\u001b[43mraise_missing\u001b[49m\n\u001b[0;32m   1093\u001b[0m \u001b[43m\u001b[49m\u001b[43m)\u001b[49m\n\u001b[0;32m   1094\u001b[0m \u001b[38;5;28;01mreturn\u001b[39;00m keyarr, indexer\n",
      "File \u001b[1;32mE:\\Anaconda\\envs\\statistic\\lib\\site-packages\\pandas\\core\\indexing.py:1185\u001b[0m, in \u001b[0;36m_NDFrameIndexer._validate_read_indexer\u001b[1;34m(self, key, indexer, axis, raise_missing)\u001b[0m\n\u001b[0;32m   1183\u001b[0m \u001b[38;5;28;01mif\u001b[39;00m \u001b[38;5;129;01mnot\u001b[39;00m (\u001b[38;5;28mself\u001b[39m\u001b[38;5;241m.\u001b[39mname \u001b[38;5;241m==\u001b[39m \u001b[38;5;124m\"\u001b[39m\u001b[38;5;124mloc\u001b[39m\u001b[38;5;124m\"\u001b[39m \u001b[38;5;129;01mand\u001b[39;00m \u001b[38;5;129;01mnot\u001b[39;00m raise_missing):\n\u001b[0;32m   1184\u001b[0m     not_found \u001b[38;5;241m=\u001b[39m \u001b[38;5;28mlist\u001b[39m(\u001b[38;5;28mset\u001b[39m(key) \u001b[38;5;241m-\u001b[39m \u001b[38;5;28mset\u001b[39m(ax))\n\u001b[1;32m-> 1185\u001b[0m     \u001b[38;5;28;01mraise\u001b[39;00m \u001b[38;5;167;01mKeyError\u001b[39;00m(\u001b[38;5;124m\"\u001b[39m\u001b[38;5;132;01m{}\u001b[39;00m\u001b[38;5;124m not in index\u001b[39m\u001b[38;5;124m\"\u001b[39m\u001b[38;5;241m.\u001b[39mformat(not_found))\n\u001b[0;32m   1187\u001b[0m \u001b[38;5;66;03m# we skip the warning on Categorical/Interval\u001b[39;00m\n\u001b[0;32m   1188\u001b[0m \u001b[38;5;66;03m# as this check is actually done (check for\u001b[39;00m\n\u001b[0;32m   1189\u001b[0m \u001b[38;5;66;03m# non-missing values), but a bit later in the\u001b[39;00m\n\u001b[0;32m   1190\u001b[0m \u001b[38;5;66;03m# code, so we want to avoid warning & then\u001b[39;00m\n\u001b[0;32m   1191\u001b[0m \u001b[38;5;66;03m# just raising\u001b[39;00m\n\u001b[0;32m   1193\u001b[0m _missing_key_warning \u001b[38;5;241m=\u001b[39m textwrap\u001b[38;5;241m.\u001b[39mdedent(\n\u001b[0;32m   1194\u001b[0m \u001b[38;5;250m    \u001b[39m\u001b[38;5;124;03m\"\"\"\u001b[39;00m\n\u001b[0;32m   1195\u001b[0m \u001b[38;5;124;03mPassing list-likes to .loc or [] with any missing label will raise\u001b[39;00m\n\u001b[1;32m   (...)\u001b[0m\n\u001b[0;32m   1199\u001b[0m \u001b[38;5;124;03mhttps://pandas.pydata.org/pandas-docs/stable/user_guide/indexing.html#deprecate-loc-reindex-listlike\"\"\"\u001b[39;00m  \u001b[38;5;66;03m# noqa: E501\u001b[39;00m\n\u001b[0;32m   1200\u001b[0m )\n",
      "\u001b[1;31mKeyError\u001b[0m: \"['player1_svpt_hist', 'player1_baseline_rally_histo', 'player2_o_seed_bucket_histo', 'player1_o_host_histo', 'player2_elo', 'player2_baseline_rally_hist', 'player2_o_hand_histo', 'player2_ace_hist_e', 'player2_o_SvGms_histo', 'player2_o_age_histo', 'player1_serve_win_rate_hist_e', 'player2_intensity_histo', 'player2_ace_hist', 'player1_svpt_hist_e', 'player1_ace_rate_hist_e', 'player1_o_bpFaced_histo', 'player2_df_hist_e', 'player1_fstIn_hist_e', 'player1_o_entry_histo', 'player1_o_clutch_ability_histo', 'player2_o_svpt_histo', 'player2_sndWon_hist', 'player1_o_fstIn_histo', 'player2_o_ace_rate_histo', 'player1_o_rank_histo', 'player2_sndWon_hist_e', 'player2_o_df_histo', 'player2_o_bpSaved_histo', 'player2_serve_win_rate_hist', 'player2_serve_efficiency_hist_e', 'player1_SvGms_hist_e', 'player2_o_serve_efficiency_histo', 'player1_df_rate_hist', 'player1_intensity_histo', 'player2_o_rank_points_histo', 'player1_clutch_ability_hist', 'player1_SvGms_hist', 'player2_o_rank_histo', 'player2_o_sndWon_histo', 'player1_ace_hist', 'player2_o_ht_histo', 'player1_df_hist', 'player1_bpSaved_hist', 'player2_o_host_histo', 'player2_fstIn_hist_e', 'player1_age', 'player1_o_svpt_histo', 'player1_o_ace_histo', 'player1_o_sndWon_histo', 'player1_elo', 'player2_o_entry_histo', 'player2_df_hist', 'player1_df_rate_hist_e', 'player2_serve_efficiency_hist', 'player1_bpFaced_hist_e', 'player2_SvGms_hist_e', 'player2_o_fstIn_histo', 'player2_serve_win_rate_hist_e', 'player2_df_rate_hist', 'player2_intensity_hist', 'player2_fstWon_hist', 'player1_o_bpSaved_histo', 'player1_o_df_rate_histo', 'player2_svpt_hist_e', 'player2_o_clutch_ability_histo', 'player1_sndWon_hist_e', 'player1_baseline_rally_hist_e', 'player1_o_fstWon_histo', 'player2_svpt_hist', 'player2_o_serve_win_rate_histo', 'player1_serve_win_rate_hist', 'player1_ace_rate_hist', 'player2_intensity_hist_e', 'player1_df_hist_e', 'player2_df_rate_hist_e', 'player2_o_df_rate_histo', 'player2_age', 'player1_serve_efficiency_hist', 'player1_clutch_ability_hist_e', 'player1_o_serve_win_rate_histo', 'player1_o_hand_histo', 'player2_o_bpFaced_histo', 'player2_ace_rate_hist', 'player1_ht', 'player1_fstIn_hist', 'player1_serve_efficiency_hist_e', 'player1_bpFaced_hist', 'player1_o_ht_histo', 'player1_intensity_hist', 'player2_o_ace_histo', 'player1_o_elo_histo', 'player1_ace_hist_e', 'player1_sndWon_hist', 'player2_baseline_rally_hist_e', 'player1_fstWon_hist_e', 'player2_fstIn_hist', 'player2_ace_rate_hist_e', 'player1_o_df_histo', 'player2_bpSaved_hist', 'player2_clutch_ability_hist_e', 'player1_o_SvGms_histo', 'player1_o_age_histo', 'player2_bpSaved_hist_e', 'player2_clutch_ability_hist', 'player1_o_serve_efficiency_histo', 'player1_o_rank_points_histo', 'player1_intensity_hist_e', 'player2_fstWon_hist_e', 'player1_o_ace_rate_histo', 'player2_baseline_rally_histo', 'player2_SvGms_hist', 'player2_ht', 'player1_baseline_rally_hist', 'player1_o_seed_bucket_histo', 'player1_fstWon_hist', 'player2_o_elo_histo', 'player2_o_fstWon_histo', 'player2_bpFaced_hist', 'player2_bpFaced_hist_e', 'player1_bpSaved_hist_e'] not in index\""
     ]
    }
   ],
   "source": [
    "# 显式创建 X 的副本，防止 SettingWithCopyWarning\n",
    "X = match_df[features].copy()\n",
    "\n",
    "# 归一化数值特征\n",
    "scaler = StandardScaler()\n",
    "X[continuous_features] = scaler.fit_transform(X[continuous_features])"
   ]
  },
  {
   "cell_type": "code",
   "execution_count": null,
   "id": "23a3a91c-9679-47a3-9afc-efaa81af14be",
   "metadata": {},
   "outputs": [],
   "source": [
    "#X = pd.get_dummies(X, columns=['sym_entry', 'sym_hand', 'sym_host','round_code', 'best_of','sym_seed_bucket'], drop_first=True)"
   ]
  },
  {
   "cell_type": "markdown",
   "id": "4af46879-209b-4425-bf52-d5e433763210",
   "metadata": {},
   "source": [
    "match_df['year'] = pd.to_datetime(match_df['tourney_date'], format='%Y-%m-%d').dt.year\n",
    "train_mask = match_df['year'].between(2020, 2023)\n",
    "test_mask = (match_df['year'] == 2024)\n",
    "\n",
    "X_train, X_test = X[train_mask], X[test_mask]\n",
    "y = match_df['result']\n",
    "y_train = y[train_mask]\n",
    "y_test = y[test_mask]"
   ]
  },
  {
   "cell_type": "code",
   "execution_count": null,
   "id": "e5778c2f-1797-43f5-a7df-e4ecfbe5a92d",
   "metadata": {},
   "outputs": [],
   "source": [
    "X_train, X_test, y_train, y_test = train_test_split(X, y, test_size=0.2, random_state=42)"
   ]
  },
  {
   "cell_type": "code",
   "execution_count": null,
   "id": "374a5afe-dd3f-454e-9d33-751f53a4dd78",
   "metadata": {},
   "outputs": [],
   "source": [
    "tree_model = DecisionTreeClassifier(max_depth=10, min_samples_split=10, random_state=42)\n",
    "tree_model.fit(X_train, y_train)\n",
    "\n",
    "y_pred_tree = tree_model.predict(X_test)\n",
    "accuracy_tree = accuracy_score(y_test, y_pred_tree)\n",
    "\n",
    "print(f'Decision Tree Accuracy: {accuracy_tree:.4f}')\n",
    "print(classification_report(y_test, y_pred_tree))"
   ]
  },
  {
   "cell_type": "code",
   "execution_count": null,
   "id": "74e73891-8e39-4b6e-af30-e80446fee4b0",
   "metadata": {},
   "outputs": [],
   "source": [
    "from sklearn.model_selection import GridSearchCV\n",
    "\n",
    "param_grid = {\n",
    "    'max_depth': [5, 10, 20, None],\n",
    "    'min_samples_split': [2, 5, 10],\n",
    "    'min_samples_leaf': [1, 5, 10]\n",
    "}\n",
    "\n",
    "grid_tree = GridSearchCV(DecisionTreeClassifier(random_state=42), param_grid, cv=5, scoring='accuracy')\n",
    "grid_tree.fit(X_train, y_train)\n",
    "\n",
    "best_tree = grid_tree.best_estimator_\n",
    "print(f'Best Decision Tree Accuracy: {grid_tree.best_score_:.4f}')\n"
   ]
  },
  {
   "cell_type": "code",
   "execution_count": null,
   "id": "fb9cd6b8-ee6b-4c00-80c2-d8d9d566fa7e",
   "metadata": {},
   "outputs": [],
   "source": []
  },
  {
   "cell_type": "code",
   "execution_count": null,
   "id": "2b6e0255-a7c8-4c0f-bd0f-bec755c7729f",
   "metadata": {},
   "outputs": [],
   "source": []
  },
  {
   "cell_type": "code",
   "execution_count": null,
   "id": "abbff064-30bc-4f39-ac83-26b304964692",
   "metadata": {},
   "outputs": [],
   "source": []
  }
 ],
 "metadata": {
  "kernelspec": {
   "display_name": "Python 3 (ipykernel)",
   "language": "python",
   "name": "python3"
  },
  "language_info": {
   "codemirror_mode": {
    "name": "ipython",
    "version": 3
   },
   "file_extension": ".py",
   "mimetype": "text/x-python",
   "name": "python",
   "nbconvert_exporter": "python",
   "pygments_lexer": "ipython3",
   "version": "3.8.20"
  }
 },
 "nbformat": 4,
 "nbformat_minor": 5
}
