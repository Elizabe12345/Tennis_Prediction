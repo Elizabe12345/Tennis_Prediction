{
 "cells": [
  {
   "cell_type": "code",
   "execution_count": 1,
   "id": "6fa68058-8375-41c9-a893-fb8647c0c9b9",
   "metadata": {},
   "outputs": [],
   "source": [
    "import pandas as pd\n",
    "import numpy as np\n",
    "from sklearn.model_selection import train_test_split\n",
    "from sklearn.preprocessing import StandardScaler\n",
    "from sklearn.linear_model import LogisticRegression\n",
    "from sklearn.metrics import accuracy_score, classification_report, roc_auc_score, roc_curve\n",
    "import matplotlib.pyplot as plt"
   ]
  },
  {
   "cell_type": "code",
   "execution_count": 2,
   "id": "1096259b-2803-4048-bd40-a52943921ac8",
   "metadata": {},
   "outputs": [],
   "source": [
    "match_df = pd.read_csv(r\"..\\dataset\\processed_data_1\\match_df_20_24.csv\",low_memory=False)"
   ]
  },
  {
   "cell_type": "code",
   "execution_count": 3,
   "id": "6b17737d-c00b-46cd-ac3d-0002608681e8",
   "metadata": {
    "scrolled": true
   },
   "outputs": [
    {
     "name": "stdout",
     "output_type": "stream",
     "text": [
      "['player1_index', 'tourney_id', 'tourney_date', 'round_code', 'best_of', 'surface_Clay', 'surface_Grass', 'surface_Hard', 'player1_id', 'player2_id', 'player1_seed_bucket', 'player1_entry', 'player1_host', 'player1_hand', 'player1_ht', 'player1_age', 'player1_rank', 'player1_rank_points', 'player1_elo', 'player1_ace', 'player1_df', 'player1_svpt', 'player1_fstIn', 'player1_fstWon', 'player1_sndWon', 'player1_SvGms', 'player1_bpSaved', 'player1_bpFaced', 'baseline_rally', 'intensity', 'player1_ace_rate', 'player1_df_rate', 'player1_serve_win_rate', 'player1_serve_efficiency', 'player1_clutch_ability', 'player1_o_seed_bucket', 'player1_o_entry', 'player1_o_host', 'player1_o_hand', 'player1_o_ht', 'player1_o_age', 'player1_o_rank', 'player1_o_rank_points', 'player1_o_ace', 'player1_o_df', 'player1_o_svpt', 'player1_o_fstIn', 'player1_o_fstWon', 'player1_o_sndWon', 'player1_o_SvGms', 'player1_o_bpSaved', 'player1_o_bpFaced', 'player1_o_ace_rate', 'player1_o_df_rate', 'player1_o_serve_win_rate', 'player1_o_serve_efficiency', 'player1_o_clutch_ability', 'player1_o_sets', 'player1_o_games', 'player1_o_elo', 'result', 'player1_ace_hist', 'player1_df_hist', 'player1_svpt_hist', 'player1_fstIn_hist', 'player1_fstWon_hist', 'player1_sndWon_hist', 'player1_SvGms_hist', 'player1_bpSaved_hist', 'player1_bpFaced_hist', 'player1_baseline_rally_hist', 'player1_intensity_hist', 'player1_ace_rate_hist', 'player1_df_rate_hist', 'player1_serve_win_rate_hist', 'player1_serve_efficiency_hist', 'player1_clutch_ability_hist', 'player1_ace_hist_e', 'player1_df_hist_e', 'player1_svpt_hist_e', 'player1_fstIn_hist_e', 'player1_fstWon_hist_e', 'player1_sndWon_hist_e', 'player1_SvGms_hist_e', 'player1_bpSaved_hist_e', 'player1_bpFaced_hist_e', 'player1_baseline_rally_hist_e', 'player1_intensity_hist_e', 'player1_ace_rate_hist_e', 'player1_df_rate_hist_e', 'player1_serve_win_rate_hist_e', 'player1_serve_efficiency_hist_e', 'player1_clutch_ability_hist_e', 'player1_o_seed_bucket_histo', 'player1_o_entry_histo', 'player1_o_host_histo', 'player1_o_hand_histo', 'player1_o_ht_histo', 'player1_o_age_histo', 'player1_o_rank_histo', 'player1_o_rank_points_histo', 'player1_o_ace_histo', 'player1_o_df_histo', 'player1_o_svpt_histo', 'player1_o_fstIn_histo', 'player1_o_fstWon_histo', 'player1_o_sndWon_histo', 'player1_o_SvGms_histo', 'player1_o_bpSaved_histo', 'player1_o_bpFaced_histo', 'player1_o_ace_rate_histo', 'player1_o_df_rate_histo', 'player1_o_serve_win_rate_histo', 'player1_o_serve_efficiency_histo', 'player1_o_clutch_ability_histo', 'player1_o_elo_histo', 'player1_baseline_rally_histo', 'player1_intensity_histo', 'player2_index', 'player2_seed_bucket', 'player2_entry', 'player2_host', 'player2_hand', 'player2_ht', 'player2_age', 'player2_rank', 'player2_rank_points', 'player2_elo', 'player2_ace', 'player2_df', 'player2_svpt', 'player2_fstIn', 'player2_fstWon', 'player2_sndWon', 'player2_SvGms', 'player2_bpSaved', 'player2_bpFaced', 'player2_ace_rate', 'player2_df_rate', 'player2_serve_win_rate', 'player2_serve_efficiency', 'player2_clutch_ability', 'player2_o_seed_bucket', 'player2_o_entry', 'player2_o_host', 'player2_o_hand', 'player2_o_ht', 'player2_o_age', 'player2_o_rank', 'player2_o_rank_points', 'player2_o_ace', 'player2_o_df', 'player2_o_svpt', 'player2_o_fstIn', 'player2_o_fstWon', 'player2_o_sndWon', 'player2_o_SvGms', 'player2_o_bpSaved', 'player2_o_bpFaced', 'player2_o_ace_rate', 'player2_o_df_rate', 'player2_o_serve_win_rate', 'player2_o_serve_efficiency', 'player2_o_clutch_ability', 'player2_o_sets', 'player2_o_games', 'player2_o_elo', 'player2_ace_hist', 'player2_df_hist', 'player2_svpt_hist', 'player2_fstIn_hist', 'player2_fstWon_hist', 'player2_sndWon_hist', 'player2_SvGms_hist', 'player2_bpSaved_hist', 'player2_bpFaced_hist', 'player2_baseline_rally_hist', 'player2_intensity_hist', 'player2_ace_rate_hist', 'player2_df_rate_hist', 'player2_serve_win_rate_hist', 'player2_serve_efficiency_hist', 'player2_clutch_ability_hist', 'player2_ace_hist_e', 'player2_df_hist_e', 'player2_svpt_hist_e', 'player2_fstIn_hist_e', 'player2_fstWon_hist_e', 'player2_sndWon_hist_e', 'player2_SvGms_hist_e', 'player2_bpSaved_hist_e', 'player2_bpFaced_hist_e', 'player2_baseline_rally_hist_e', 'player2_intensity_hist_e', 'player2_ace_rate_hist_e', 'player2_df_rate_hist_e', 'player2_serve_win_rate_hist_e', 'player2_serve_efficiency_hist_e', 'player2_clutch_ability_hist_e', 'player2_o_seed_bucket_histo', 'player2_o_entry_histo', 'player2_o_host_histo', 'player2_o_hand_histo', 'player2_o_ht_histo', 'player2_o_age_histo', 'player2_o_rank_histo', 'player2_o_rank_points_histo', 'player2_o_ace_histo', 'player2_o_df_histo', 'player2_o_svpt_histo', 'player2_o_fstIn_histo', 'player2_o_fstWon_histo', 'player2_o_sndWon_histo', 'player2_o_SvGms_histo', 'player2_o_bpSaved_histo', 'player2_o_bpFaced_histo', 'player2_o_ace_rate_histo', 'player2_o_df_rate_histo', 'player2_o_serve_win_rate_histo', 'player2_o_serve_efficiency_histo', 'player2_o_clutch_ability_histo', 'player2_o_elo_histo', 'player2_baseline_rally_histo', 'player2_intensity_histo']\n"
     ]
    }
   ],
   "source": [
    "print(match_df.columns.tolist())"
   ]
  },
  {
   "cell_type": "code",
   "execution_count": 4,
   "id": "b570ed56-dd63-4b45-b6f1-336ef320b74b",
   "metadata": {},
   "outputs": [],
   "source": [
    "hist_features = [col for col in match_df.columns if col.endswith('_hist')]\n",
    "hist_e_features = [col for col in match_df.columns if col.endswith('_hist_e')]\n",
    "supplement_features =['round_code','best_of',\n",
    "                      'player1_seed_bucket','player2_seed_bucket',\n",
    "                     'player1_entry', 'player1_host', 'player1_hand', 'player1_ht','player1_age',\n",
    "                      'player2_entry', 'player2_host', 'player2_hand', 'player2_ht', 'player2_age',\n",
    "                      ]\n",
    "elo_features =['player1_elo','player2_elo']\n",
    "rank_features =['player1_rank', 'player1_rank_points','player2_rank', 'player2_rank_points']\n",
    "histo_features = [col for col in match_df.columns if col.endswith('_histo')]\n",
    "\n",
    "features =hist_features + hist_e_features + supplement_features + elo_features +  rank_features + histo_features\n",
    "# 数值型特征\n",
    "continuous_features = hist_features+hist_e_features+rank_features+histo_features+elo_features+['player1_ht','player1_age','player2_ht', 'player2_age',]\n",
    "# 目标变量\n",
    "X = match_df[features]\n",
    "y = match_df['result']"
   ]
  },
  {
   "cell_type": "code",
   "execution_count": 5,
   "id": "461c8806-f036-4587-80f8-01c2acbc5010",
   "metadata": {},
   "outputs": [],
   "source": [
    "# 显式创建 X 的副本，防止 SettingWithCopyWarning\n",
    "X = match_df[features].copy().fillna(0)\n",
    "\n",
    "# 归一化数值特征\n",
    "scaler = StandardScaler()\n",
    "X[continuous_features] = scaler.fit_transform(X[continuous_features])"
   ]
  },
  {
   "cell_type": "code",
   "execution_count": 6,
   "id": "23a3a91c-9679-47a3-9afc-efaa81af14be",
   "metadata": {},
   "outputs": [],
   "source": [
    "#X = pd.get_dummies(X, columns=['round_code', 'best_of','player1_seed_bucket', 'player1_entry', 'player1_host', 'player1_hand', 'player2_seed_bucket', 'player2_entry',\n",
    "#       'player2_host', 'player2_hand',], drop_first=True)"
   ]
  },
  {
   "cell_type": "markdown",
   "id": "ae8254a0-afbb-45d7-8b2f-85f33ed79433",
   "metadata": {},
   "source": [
    "match_df['year'] = pd.to_datetime(match_df['tourney_date'], format='%Y-%m-%d').dt.year\n",
    "train_mask = match_df['year'].between(2023,)\n",
    "test_mask = (match_df['year'] == 2024)\n",
    "\n",
    "X_train, X_test = X[train_mask], X[test_mask]\n",
    "y = match_df['result']\n",
    "y_train = y[train_mask]\n",
    "y_test = y[test_mask]"
   ]
  },
  {
   "cell_type": "code",
   "execution_count": 8,
   "id": "e5778c2f-1797-43f5-a7df-e4ecfbe5a92d",
   "metadata": {},
   "outputs": [],
   "source": [
    "X_train, X_test, y_train, y_test = train_test_split(X, y, test_size=0.2, random_state=42)"
   ]
  },
  {
   "cell_type": "code",
   "execution_count": 9,
   "id": "374a5afe-dd3f-454e-9d33-751f53a4dd78",
   "metadata": {
    "scrolled": true
   },
   "outputs": [
    {
     "data": {
      "text/plain": [
       "LogisticRegression(C=0.01, class_weight=None, dual=False, fit_intercept=True,\n",
       "                   intercept_scaling=1, l1_ratio=None, max_iter=100,\n",
       "                   multi_class='auto', n_jobs=None, penalty='l2',\n",
       "                   random_state=None, solver='liblinear', tol=0.0001, verbose=0,\n",
       "                   warm_start=False)"
      ]
     },
     "execution_count": 9,
     "metadata": {},
     "output_type": "execute_result"
    }
   ],
   "source": [
    "model = LogisticRegression(solver='liblinear', penalty='l2', C=0.01)\n",
    "model.fit(X_train, y_train)"
   ]
  },
  {
   "cell_type": "code",
   "execution_count": 10,
   "id": "175325c6-8f35-4ce9-9430-3b1cc746082c",
   "metadata": {},
   "outputs": [
    {
     "name": "stdout",
     "output_type": "stream",
     "text": [
      "Accuracy: 0.6529\n",
      "AUC: 0.7187\n",
      "              precision    recall  f1-score   support\n",
      "\n",
      "           0       0.66      0.66      0.66      1245\n",
      "           1       0.65      0.65      0.65      1201\n",
      "\n",
      "    accuracy                           0.65      2446\n",
      "   macro avg       0.65      0.65      0.65      2446\n",
      "weighted avg       0.65      0.65      0.65      2446\n",
      "\n"
     ]
    }
   ],
   "source": [
    "y_pred = model.predict(X_test)\n",
    "y_prob = model.predict_proba(X_test)[:, 1]  # 概率预测\n",
    "\n",
    "accuracy = accuracy_score(y_test, y_pred)\n",
    "auc = roc_auc_score(y_test, y_prob)\n",
    "\n",
    "print(f'Accuracy: {accuracy:.4f}')\n",
    "print(f'AUC: {auc:.4f}')\n",
    "print(classification_report(y_test, y_pred))\n"
   ]
  },
  {
   "cell_type": "code",
   "execution_count": 11,
   "id": "74e73891-8e39-4b6e-af30-e80446fee4b0",
   "metadata": {},
   "outputs": [
    {
     "name": "stdout",
     "output_type": "stream",
     "text": [
      "Best C: 0.01\n"
     ]
    }
   ],
   "source": [
    "from sklearn.model_selection import GridSearchCV\n",
    "\n",
    "param_grid = {'C': [0.01, 0.1, 1, 10, 100]}\n",
    "grid_search = GridSearchCV(LogisticRegression(solver='liblinear'), param_grid, cv=5, scoring='accuracy')\n",
    "grid_search.fit(X_train, y_train)\n",
    "\n",
    "best_model = grid_search.best_estimator_\n",
    "print(f'Best C: {grid_search.best_params_[\"C\"]}')\n"
   ]
  },
  {
   "cell_type": "code",
   "execution_count": 12,
   "id": "92fff672-c949-4ee0-ba12-ee9f44faa124",
   "metadata": {},
   "outputs": [],
   "source": [
    "from sklearn.inspection import permutation_importance\n",
    "import statsmodels.api as sm\n",
    "pd.set_option('display.max_columns', None)\n",
    "pd.set_option('display.max_rows', None)\n",
    "\n",
    "# 方法1：系数绝对值\n",
    "coef_importance = np.abs(model.coef_[0])\n",
    "\n",
    "# 方法2：置换重要性\n",
    "perm_result = permutation_importance(\n",
    "    model, X_test, y_test, n_repeats=30, random_state=42\n",
    ")\n",
    "perm_importance = perm_result.importances_mean"
   ]
  },
  {
   "cell_type": "code",
   "execution_count": 13,
   "id": "36d1328b-58dd-43ca-985d-8247dd406724",
   "metadata": {},
   "outputs": [],
   "source": [
    "importance_df = pd.DataFrame({\n",
    "    \"feature\": X.columns,\n",
    "    \"coef_importance\": coef_importance,\n",
    "    \"perm_importance\": perm_importance,\n",
    "})"
   ]
  },
  {
   "cell_type": "code",
   "execution_count": 14,
   "id": "85b88fe0-a624-41bb-b08e-bd8ce2c79f4b",
   "metadata": {},
   "outputs": [
    {
     "name": "stdout",
     "output_type": "stream",
     "text": [
      "                              feature  coef_importance  perm_importance\n",
      "83                player2_rank_points         0.264689     4.129191e-03\n",
      "81                player1_rank_points         0.255771     1.015263e-02\n",
      "82                       player2_rank         0.202171     2.003271e-03\n",
      "72                        player1_age         0.193864     1.310984e-02\n",
      "80                       player1_rank         0.187238     1.049332e-03\n",
      "77                        player2_age         0.186379     1.512674e-03\n",
      "116       player2_o_rank_points_histo         0.162233     3.284274e-03\n",
      "91        player1_o_rank_points_histo         0.122854     2.330335e-03\n",
      "128    player2_o_serve_win_rate_histo         0.118332    -4.946852e-03\n",
      "57      player2_baseline_rally_hist_e         0.110727    -3.652221e-03\n",
      "45      player1_serve_win_rate_hist_e         0.107203     1.226492e-03\n",
      "49                  player2_df_hist_e         0.105752    -4.183701e-03\n",
      "106               player1_o_elo_histo         0.104249    -1.226492e-04\n",
      "13        player1_serve_win_rate_hist         0.103451     1.866994e-03\n",
      "29        player2_serve_win_rate_hist         0.101978    -2.452984e-04\n",
      "90               player1_o_rank_histo         0.099898    -2.343963e-03\n",
      "8                player1_bpFaced_hist         0.099464     3.338784e-03\n",
      "73                      player2_entry         0.097602    -3.338784e-03\n",
      "131               player2_o_elo_histo         0.096420     9.948215e-04\n",
      "68                      player1_entry         0.084273     2.861815e-04\n",
      "56             player2_bpFaced_hist_e         0.078414    -1.880621e-03\n",
      "88                 player1_o_ht_histo         0.069694    -3.134369e-04\n",
      "130    player2_o_clutch_ability_histo         0.069151    -1.158354e-03\n",
      "61      player2_serve_win_rate_hist_e         0.066701    -1.839738e-03\n",
      "35               player1_fstIn_hist_e         0.064646    -5.164895e-03\n",
      "103    player1_o_serve_win_rate_histo         0.064002    -3.202507e-03\n",
      "5                 player1_sndWon_hist         0.062360    -3.638594e-03\n",
      "7                player1_bpSaved_hist         0.061097     1.703461e-03\n",
      "105    player1_o_clutch_ability_histo         0.059805    -1.594440e-03\n",
      "76                         player2_ht         0.058093    -3.461434e-03\n",
      "125           player2_o_bpFaced_histo         0.057532    -5.587354e-03\n",
      "69                       player1_host         0.057453    -1.267375e-03\n",
      "37              player1_sndWon_hist_e         0.057242     2.793677e-03\n",
      "10             player1_intensity_hist         0.056901    -3.066231e-03\n",
      "25        player2_baseline_rally_hist         0.055534    -2.248569e-03\n",
      "100           player1_o_bpFaced_histo         0.052601    -3.270646e-03\n",
      "27              player2_ace_rate_hist         0.051413    -9.266830e-04\n",
      "113                player2_o_ht_histo         0.050220    -2.452984e-04\n",
      "104  player1_o_serve_efficiency_histo         0.049982    -2.125920e-03\n",
      "124           player2_o_bpSaved_histo         0.049710     7.767784e-04\n",
      "48                 player2_ace_hist_e         0.049322    -1.212865e-03\n",
      "14      player1_serve_efficiency_hist         0.047462     6.677569e-04\n",
      "15        player1_clutch_ability_hist         0.046596    -1.008449e-03\n",
      "38               player1_SvGms_hist_e         0.045569     3.406923e-04\n",
      "44             player1_df_rate_hist_e         0.045334    -1.744345e-03\n",
      "121            player2_o_fstWon_histo         0.045203    -4.919597e-03\n",
      "93                 player1_o_df_histo         0.044152    -1.090215e-04\n",
      "120             player2_o_fstIn_histo         0.043687    -2.602889e-03\n",
      "115              player2_o_rank_histo         0.043496     5.451077e-05\n",
      "20                player2_fstWon_hist         0.042995     5.181041e-17\n",
      "51               player2_fstIn_hist_e         0.041754    -3.815754e-04\n",
      "89                player1_o_age_histo         0.038322    -1.512674e-03\n",
      "119              player2_o_svpt_histo         0.037394    -2.998092e-04\n",
      "54               player2_SvGms_hist_e         0.037254    -1.008449e-03\n",
      "26             player2_intensity_hist         0.037200    -5.096757e-03\n",
      "23               player2_bpSaved_hist         0.037174    -9.130553e-04\n",
      "16                   player2_ace_hist         0.036355    -2.521123e-03\n",
      "12               player1_df_rate_hist         0.035875    -3.406923e-04\n",
      "84        player1_o_seed_bucket_histo         0.035743    -5.859907e-04\n",
      "114               player2_o_age_histo         0.035102    -9.539384e-05\n",
      "18                  player2_svpt_hist         0.034803     2.589261e-04\n",
      "40             player1_bpFaced_hist_e         0.034394    -2.316708e-04\n",
      "98              player1_o_SvGms_histo         0.033950    -1.839738e-03\n",
      "65                            best_of         0.033029     4.088307e-04\n",
      "108           player1_intensity_histo         0.031946    -1.730717e-03\n",
      "127           player2_o_df_rate_histo         0.031693    -6.405015e-04\n",
      "74                       player2_host         0.030666    -2.316708e-04\n",
      "70                       player1_hand         0.029823    -1.444535e-03\n",
      "85              player1_o_entry_histo         0.029095     1.226492e-03\n",
      "3                  player1_fstIn_hist         0.028810    -1.608068e-03\n",
      "64                         round_code         0.027466    -2.875443e-03\n",
      "53              player2_sndWon_hist_e         0.026687    -1.444535e-03\n",
      "24               player2_bpFaced_hist         0.026092     4.633415e-04\n",
      "79                        player2_elo         0.025948    -1.757972e-03\n",
      "118                player2_o_df_histo         0.025431    -1.035705e-03\n",
      "110             player2_o_entry_histo         0.024880    -2.221314e-03\n",
      "101          player1_o_ace_rate_histo         0.023650    -2.548378e-03\n",
      "30      player2_serve_efficiency_hist         0.022522     2.861815e-04\n",
      "36              player1_fstWon_hist_e         0.022264    -2.221314e-03\n",
      "59            player2_ace_rate_hist_e         0.022046     3.134369e-04\n",
      "6                  player1_SvGms_hist         0.021762    -1.853366e-03\n",
      "52              player2_fstWon_hist_e         0.021681    -1.240120e-03\n",
      "42           player1_intensity_hist_e         0.021608    -1.499046e-04\n",
      "4                 player1_fstWon_hist         0.020903    -4.905969e-04\n",
      "123             player2_o_SvGms_histo         0.020772    -4.088307e-05\n",
      "41      player1_baseline_rally_hist_e         0.020373    -1.226492e-04\n",
      "96             player1_o_fstWon_histo         0.020017    -7.222676e-04\n",
      "43            player1_ace_rate_hist_e         0.019937     1.171981e-03\n",
      "60             player2_df_rate_hist_e         0.019518    -1.199237e-03\n",
      "78                        player1_elo         0.019338    -1.485418e-03\n",
      "1                     player1_df_hist         0.019323    -6.950123e-04\n",
      "122            player2_o_sndWon_histo         0.019247    -1.703461e-03\n",
      "46    player1_serve_efficiency_hist_e         0.019181    -3.134369e-04\n",
      "28               player2_df_rate_hist         0.019025    -1.512674e-03\n",
      "47      player1_clutch_ability_hist_e         0.018810    -1.267375e-03\n",
      "111              player2_o_host_histo         0.018508     3.406923e-04\n",
      "126          player2_o_ace_rate_histo         0.018390    -1.417280e-03\n",
      "32                 player1_ace_hist_e         0.018217    -6.541292e-04\n",
      "2                   player1_svpt_hist         0.018082    -5.587354e-04\n",
      "75                       player2_hand         0.018011     8.312892e-04\n",
      "112              player2_o_hand_histo         0.017491    -8.312892e-04\n",
      "55             player2_bpSaved_hist_e         0.016974     8.176615e-04\n",
      "129  player2_o_serve_efficiency_histo         0.016908    -5.723630e-04\n",
      "34                player1_svpt_hist_e         0.015331    -1.935132e-03\n",
      "50                player2_svpt_hist_e         0.015014     3.679477e-04\n",
      "19                 player2_fstIn_hist         0.014831    -2.589261e-04\n",
      "31        player2_clutch_ability_hist         0.013353    -1.430908e-03\n",
      "58           player2_intensity_hist_e         0.012894     1.553557e-03\n",
      "99            player1_o_bpSaved_histo         0.012840    -9.266830e-04\n",
      "67                player2_seed_bucket         0.012547    -4.647043e-03\n",
      "94               player1_o_svpt_histo         0.012171    -9.675661e-04\n",
      "92                player1_o_ace_histo         0.011749     2.725538e-04\n",
      "71                         player1_ht         0.011676     1.090215e-04\n",
      "117               player2_o_ace_histo         0.010870    -2.044154e-04\n",
      "17                    player2_df_hist         0.010842    -4.905969e-04\n",
      "87               player1_o_hand_histo         0.010575    -5.314800e-04\n",
      "97             player1_o_sndWon_histo         0.010386     1.362769e-05\n",
      "22                 player2_SvGms_hist         0.009475    -7.222676e-04\n",
      "102           player1_o_df_rate_histo         0.008605    -9.266830e-04\n",
      "95              player1_o_fstIn_histo         0.008348    -8.176615e-04\n",
      "33                  player1_df_hist_e         0.007363    -1.308258e-03\n",
      "39             player1_bpSaved_hist_e         0.006744    -3.679477e-04\n",
      "11              player1_ace_rate_hist         0.006572    -6.268738e-04\n",
      "109       player2_o_seed_bucket_histo         0.006214    -9.811938e-04\n",
      "66                player1_seed_bucket         0.004832    -5.178523e-04\n",
      "132      player2_baseline_rally_histo         0.003822    -9.266830e-04\n",
      "0                    player1_ace_hist         0.003457    -5.587354e-04\n",
      "63      player2_clutch_ability_hist_e         0.003067    -6.813846e-04\n",
      "133           player2_intensity_histo         0.002614    -5.996184e-04\n",
      "21                player2_sndWon_hist         0.002426    -3.134369e-04\n",
      "107      player1_baseline_rally_histo         0.001994     0.000000e+00\n",
      "62    player2_serve_efficiency_hist_e         0.001098    -6.677569e-04\n",
      "9         player1_baseline_rally_hist         0.000424     0.000000e+00\n",
      "86               player1_o_host_histo         0.000036     0.000000e+00\n"
     ]
    }
   ],
   "source": [
    "# 按 coef_importance 降序排序（从高到低）\n",
    "importance_df_sorted = importance_df.sort_values(\n",
    "    by=\"coef_importance\",     # 指定排序依据的列\n",
    "    ascending=False,           # 降序排列（值越大越靠前）\n",
    ")\n",
    "\n",
    "# 输出排序后的 DataFrame\n",
    "print(importance_df_sorted)"
   ]
  },
  {
   "cell_type": "code",
   "execution_count": null,
   "id": "9fc86a22-a388-443f-97da-d839b371322c",
   "metadata": {},
   "outputs": [],
   "source": []
  },
  {
   "cell_type": "code",
   "execution_count": null,
   "id": "90abab28-e683-471b-a783-63fbdc20ea66",
   "metadata": {},
   "outputs": [],
   "source": []
  }
 ],
 "metadata": {
  "kernelspec": {
   "display_name": "Python 3 (ipykernel)",
   "language": "python",
   "name": "python3"
  },
  "language_info": {
   "codemirror_mode": {
    "name": "ipython",
    "version": 3
   },
   "file_extension": ".py",
   "mimetype": "text/x-python",
   "name": "python",
   "nbconvert_exporter": "python",
   "pygments_lexer": "ipython3",
   "version": "3.8.20"
  }
 },
 "nbformat": 4,
 "nbformat_minor": 5
}
