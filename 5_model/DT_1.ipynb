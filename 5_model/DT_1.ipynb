{
 "cells": [
  {
   "cell_type": "code",
   "execution_count": 1,
   "id": "6fa68058-8375-41c9-a893-fb8647c0c9b9",
   "metadata": {},
   "outputs": [],
   "source": [
    "import pandas as pd\n",
    "import numpy as np\n",
    "from sklearn.model_selection import train_test_split\n",
    "from sklearn.preprocessing import StandardScaler, OneHotEncoder\n",
    "from sklearn.tree import DecisionTreeClassifier\n",
    "from sklearn.neural_network import MLPClassifier\n",
    "from sklearn.metrics import accuracy_score, classification_report, roc_auc_score\n",
    "import matplotlib.pyplot as plt\n",
    "pd.set_option('display.max_columns', None)\n",
    "pd.set_option('display.max_rows', None)"
   ]
  },
  {
   "cell_type": "code",
   "execution_count": 2,
   "id": "1096259b-2803-4048-bd40-a52943921ac8",
   "metadata": {},
   "outputs": [],
   "source": [
    "match_df = pd.read_csv(r\"..\\dataset\\tennis_predicton\\processed_data_1\\match_df_20_24.csv\",low_memory=False)"
   ]
  },
  {
   "cell_type": "code",
   "execution_count": 3,
   "id": "9126dc4b-a4b6-49fb-99a6-6bbc489d08f8",
   "metadata": {},
   "outputs": [],
   "source": [
    "match_df = match_df.dropna()"
   ]
  },
  {
   "cell_type": "code",
   "execution_count": 4,
   "id": "b570ed56-dd63-4b45-b6f1-336ef320b74b",
   "metadata": {},
   "outputs": [],
   "source": [
    "hist_features = [col for col in match_df.columns if col.endswith('_hist')]\n",
    "hist_e_features = [col for col in match_df.columns if col.endswith('_hist_e')]\n",
    "supplement_features =['round_code','best_of',\n",
    "                      'player1_seed_bucket','player2_seed_bucket',\n",
    "                     'player1_entry', 'player1_host', 'player1_hand', 'player1_ht','player1_age',\n",
    "                      'player2_entry', 'player2_host', 'player2_hand', 'player2_ht', 'player2_age',\n",
    "                      ]\n",
    "elo_features =['player1_elo','player2_elo']\n",
    "rank_features =['player1_rank', 'player1_rank_points','player2_rank', 'player2_rank_points']\n",
    "histo_features = [col for col in match_df.columns if col.endswith('_histo')]\n",
    "\n",
    "#features =hist_features + hist_e_features + supplement_features + elo_features +  rank_features + histo_features\n",
    "features = rank_features \n",
    "# 数值型特征\n",
    "#continuous_features = hist_features+hist_e_features+rank_features+histo_features+elo_features+['player1_ht','player1_age','player2_ht', 'player2_age',]\n",
    "continuous_features = rank_features\n",
    "# 目标变量\n",
    "X = match_df[features]\n",
    "y = match_df['result']"
   ]
  },
  {
   "cell_type": "code",
   "execution_count": 5,
   "id": "23a3a91c-9679-47a3-9afc-efaa81af14be",
   "metadata": {},
   "outputs": [],
   "source": [
    "#X = pd.get_dummies(X, columns=['sym_entry', 'sym_hand', 'sym_host','round_code', 'best_of','sym_seed_bucket'], drop_first=True)"
   ]
  },
  {
   "cell_type": "markdown",
   "id": "4af46879-209b-4425-bf52-d5e433763210",
   "metadata": {},
   "source": [
    "match_df['year'] = pd.to_datetime(match_df['tourney_date'], format='%Y-%m-%d').dt.year\n",
    "train_mask = match_df['year'].between(2020, 2023)\n",
    "test_mask = (match_df['year'] == 2024)\n",
    "\n",
    "X_train, X_test = X[train_mask], X[test_mask]\n",
    "y = match_df['result']\n",
    "y_train = y[train_mask]\n",
    "y_test = y[test_mask]"
   ]
  },
  {
   "cell_type": "code",
   "execution_count": 6,
   "id": "e5778c2f-1797-43f5-a7df-e4ecfbe5a92d",
   "metadata": {},
   "outputs": [],
   "source": [
    "X_train, X_test, y_train, y_test = train_test_split(X, y, test_size=0.2, random_state=42)"
   ]
  },
  {
   "cell_type": "code",
   "execution_count": 7,
   "id": "374a5afe-dd3f-454e-9d33-751f53a4dd78",
   "metadata": {},
   "outputs": [
    {
     "name": "stdout",
     "output_type": "stream",
     "text": [
      "Decision Tree Accuracy: 0.6074\n",
      "              precision    recall  f1-score   support\n",
      "\n",
      "           0       0.61      0.70      0.65      1269\n",
      "           1       0.61      0.51      0.55      1166\n",
      "\n",
      "    accuracy                           0.61      2435\n",
      "   macro avg       0.61      0.60      0.60      2435\n",
      "weighted avg       0.61      0.61      0.60      2435\n",
      "\n"
     ]
    }
   ],
   "source": [
    "tree_model = DecisionTreeClassifier(max_depth=10, min_samples_split=10, random_state=42)\n",
    "tree_model.fit(X_train, y_train)\n",
    "\n",
    "y_pred_tree = tree_model.predict(X_test)\n",
    "accuracy_tree = accuracy_score(y_test, y_pred_tree)\n",
    "\n",
    "print(f'Decision Tree Accuracy: {accuracy_tree:.4f}')\n",
    "print(classification_report(y_test, y_pred_tree))"
   ]
  },
  {
   "cell_type": "code",
   "execution_count": 8,
   "id": "74e73891-8e39-4b6e-af30-e80446fee4b0",
   "metadata": {},
   "outputs": [
    {
     "name": "stdout",
     "output_type": "stream",
     "text": [
      "Best Decision Tree Accuracy: 0.6195\n"
     ]
    }
   ],
   "source": [
    "from sklearn.model_selection import GridSearchCV\n",
    "\n",
    "param_grid = {\n",
    "    'max_depth': [5, 10, 20, None],\n",
    "    'min_samples_split': [2, 5, 10],\n",
    "    'min_samples_leaf': [1, 5, 10]\n",
    "}\n",
    "\n",
    "grid_tree = GridSearchCV(DecisionTreeClassifier(random_state=42), param_grid, cv=5, scoring='accuracy')\n",
    "grid_tree.fit(X_train, y_train)\n",
    "\n",
    "best_tree = grid_tree.best_estimator_\n",
    "print(f'Best Decision Tree Accuracy: {grid_tree.best_score_:.4f}')\n"
   ]
  },
  {
   "cell_type": "code",
   "execution_count": 10,
   "id": "fb9cd6b8-ee6b-4c00-80c2-d8d9d566fa7e",
   "metadata": {},
   "outputs": [
    {
     "name": "stdout",
     "output_type": "stream",
     "text": [
      "\n",
      "Feature Importance:\n",
      "player2_rank_points    0.392490\n",
      "player1_rank           0.294639\n",
      "player1_rank_points    0.194426\n",
      "player2_rank           0.118446\n",
      "dtype: float64\n"
     ]
    }
   ],
   "source": [
    "feature_importance = pd.Series(\n",
    "    tree_model.feature_importances_,\n",
    "    index=X.columns\n",
    ").sort_values(ascending=False)\n",
    "print(\"\\nFeature Importance:\")\n",
    "print(feature_importance)"
   ]
  },
  {
   "cell_type": "code",
   "execution_count": null,
   "id": "2b6e0255-a7c8-4c0f-bd0f-bec755c7729f",
   "metadata": {},
   "outputs": [],
   "source": []
  },
  {
   "cell_type": "code",
   "execution_count": null,
   "id": "abbff064-30bc-4f39-ac83-26b304964692",
   "metadata": {},
   "outputs": [],
   "source": []
  }
 ],
 "metadata": {
  "kernelspec": {
   "display_name": "Python 3 (ipykernel)",
   "language": "python",
   "name": "python3"
  },
  "language_info": {
   "codemirror_mode": {
    "name": "ipython",
    "version": 3
   },
   "file_extension": ".py",
   "mimetype": "text/x-python",
   "name": "python",
   "nbconvert_exporter": "python",
   "pygments_lexer": "ipython3",
   "version": "3.8.20"
  }
 },
 "nbformat": 4,
 "nbformat_minor": 5
}
