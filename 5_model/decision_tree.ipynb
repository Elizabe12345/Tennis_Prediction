{
 "cells": [
  {
   "cell_type": "code",
   "execution_count": 9,
   "id": "9bd9f85d",
   "metadata": {},
   "outputs": [],
   "source": [
    "import pandas as pd\n",
    "import numpy as np\n",
    "import matplotlib.pyplot as plt\n",
    "import seaborn as sns\n",
    "from sklearn.model_selection import train_test_split\n",
    "from sklearn.tree import DecisionTreeClassifier\n",
    "from sklearn.metrics import accuracy_score, classification_report\n",
    "\n",
    "import os\n",
    "from pylab import mpl\n",
    "# 设置显示中文字体\n",
    "mpl.rcParams[\"font.sans-serif\"] = [\"SimHei\"]\n",
    "pd.set_option('display.max_columns', None)\n",
    "pd.set_option('display.max_rows', None)"
   ]
  },
  {
   "cell_type": "code",
   "execution_count": 10,
   "id": "2fe70226-ca5b-4060-96c6-7d7764c500db",
   "metadata": {},
   "outputs": [],
   "source": [
    "#match_df = pd.read_csv(r\"F:\\大四\\tennis_predicton\\processed_data\\match_df_20_24.csv\",low_memory=False)\n",
    "match_df = pd.read_csv(r\"..\\dataset\\processed_data\\match_df_20_24_symmetry.csv\",low_memory=False)"
   ]
  },
  {
   "cell_type": "code",
   "execution_count": 11,
   "id": "2f8e4ae3-60af-4050-aeea-11742bbbac6e",
   "metadata": {},
   "outputs": [],
   "source": [
    "# 定义所有特征\n",
    "features = ['round_code', 'best_of', 'surface_Clay', 'surface_Grass', 'surface_Hard','sym_seed_bucket', 'sym_entry', 'sym_host', \n",
    "            'sym_hand', 'sym_ht', 'sym_age', 'sym_elo_before', 'sym_ace_hist', 'sym_df_hist',\n",
    "            'sym_svpt_hist', 'sym_fstIn_hist', 'sym_fstWon_hist', 'sym_sndWon_hist',\n",
    "            'sym_SvGms_hist', 'sym_bpSaved_hist', 'sym_bpFaced_hist', 'sym_baseline_rally_hist',\n",
    "            'sym_intensity_hist', 'sym_ace_rate_hist', 'sym_df_rate_hist', \n",
    "            'sym_serve_win_rate_hist', 'sym_serve_efficiency_hist', 'sym_clutch_ability_hist']\n",
    "\n",
    "# 数值型特征\n",
    "continuous_features = ['sym_ht', 'sym_age', 'sym_elo_before', 'sym_ace_hist', 'sym_df_hist', \n",
    "                       'sym_svpt_hist', 'sym_fstIn_hist', 'sym_fstWon_hist', 'sym_sndWon_hist', \n",
    "                       'sym_SvGms_hist', 'sym_bpSaved_hist', 'sym_bpFaced_hist', \n",
    "                       'sym_baseline_rally_hist', 'sym_intensity_hist', 'sym_ace_rate_hist', \n",
    "                       'sym_df_rate_hist', 'sym_serve_win_rate_hist', 'sym_serve_efficiency_hist', \n",
    "                       'sym_clutch_ability_hist']\n",
    "\n",
    "# 目标变量\n",
    "X = match_df[features]\n",
    "y = match_df['result']"
   ]
  },
  {
   "cell_type": "code",
   "execution_count": 12,
   "id": "ace5cfd9-315f-40ab-b62d-e8ed2ac372dc",
   "metadata": {},
   "outputs": [
    {
     "name": "stdout",
     "output_type": "stream",
     "text": [
      "Accuracy: 0.6182\n",
      "\n",
      "Classification Report:\n",
      "              precision    recall  f1-score   support\n",
      "\n",
      "           0       0.62      0.62      0.62      1222\n",
      "           1       0.62      0.62      0.62      1224\n",
      "\n",
      "    accuracy                           0.62      2446\n",
      "   macro avg       0.62      0.62      0.62      2446\n",
      "weighted avg       0.62      0.62      0.62      2446\n",
      "\n",
      "\n",
      "Feature Importance:\n",
      "sym_seed_bucket              0.577534\n",
      "sym_serve_win_rate_hist      0.138623\n",
      "sym_age                      0.082706\n",
      "sym_serve_efficiency_hist    0.082593\n",
      "sym_elo_before               0.039921\n",
      "sym_clutch_ability_hist      0.023476\n",
      "best_of                      0.020787\n",
      "sym_intensity_hist           0.016936\n",
      "sym_baseline_rally_hist      0.006606\n",
      "sym_svpt_hist                0.005841\n",
      "sym_sndWon_hist              0.004976\n",
      "surface_Clay                 0.000000\n",
      "surface_Grass                0.000000\n",
      "surface_Hard                 0.000000\n",
      "sym_ht                       0.000000\n",
      "sym_entry                    0.000000\n",
      "sym_host                     0.000000\n",
      "sym_hand                     0.000000\n",
      "sym_df_hist                  0.000000\n",
      "sym_ace_hist                 0.000000\n",
      "sym_fstIn_hist               0.000000\n",
      "sym_fstWon_hist              0.000000\n",
      "sym_SvGms_hist               0.000000\n",
      "sym_bpSaved_hist             0.000000\n",
      "sym_bpFaced_hist             0.000000\n",
      "sym_ace_rate_hist            0.000000\n",
      "sym_df_rate_hist             0.000000\n",
      "round_code                   0.000000\n",
      "dtype: float64\n"
     ]
    }
   ],
   "source": [
    "# 划分训练集和测试集\n",
    "X_train, X_test, y_train, y_test = train_test_split(\n",
    "    X, y, test_size=0.2, random_state=42, stratify=y\n",
    ")\n",
    "\n",
    "# 创建并训练决策树模型\n",
    "dt_clf = DecisionTreeClassifier(\n",
    "    max_depth=5,  # 控制树深度防止过拟合\n",
    "    min_samples_split=10,\n",
    "    random_state=42\n",
    ")\n",
    "dt_clf.fit(X_train, y_train)\n",
    "\n",
    "# 预测与评估\n",
    "y_pred = dt_clf.predict(X_test)\n",
    "print(f\"Accuracy: {accuracy_score(y_test, y_pred):.4f}\")\n",
    "print(\"\\nClassification Report:\")\n",
    "print(classification_report(y_test, y_pred))\n",
    "\n",
    "# 特征重要性分析\n",
    "feature_importance = pd.Series(\n",
    "    dt_clf.feature_importances_,\n",
    "    index=X.columns\n",
    ").sort_values(ascending=False)\n",
    "print(\"\\nFeature Importance:\")\n",
    "print(feature_importance)"
   ]
  },
  {
   "cell_type": "code",
   "execution_count": 13,
   "id": "459087ef-739e-4c0c-93ec-0e5f3a3b52c6",
   "metadata": {},
   "outputs": [
    {
     "name": "stdout",
     "output_type": "stream",
     "text": [
      "Best Decision Tree Accuracy: 0.6208\n"
     ]
    }
   ],
   "source": [
    "from sklearn.model_selection import GridSearchCV\n",
    "\n",
    "param_grid = {\n",
    "    'max_depth': [5, 10, 20, None],\n",
    "    'min_samples_split': [2, 5, 10],\n",
    "    'min_samples_leaf': [1, 5, 10]\n",
    "}\n",
    "\n",
    "grid_tree = GridSearchCV(DecisionTreeClassifier(random_state=42), param_grid, cv=5, scoring='accuracy')\n",
    "grid_tree.fit(X_train, y_train)\n",
    "\n",
    "best_tree = grid_tree.best_estimator_\n",
    "print(f'Best Decision Tree Accuracy: {grid_tree.best_score_:.4f}')\n"
   ]
  },
  {
   "cell_type": "code",
   "execution_count": 14,
   "id": "22a6ba31-4ee7-4159-8deb-3b7ce6fe41ce",
   "metadata": {},
   "outputs": [
    {
     "name": "stdout",
     "output_type": "stream",
     "text": [
      "Fitting 5 folds for each of 36 candidates, totalling 180 fits\n"
     ]
    },
    {
     "name": "stderr",
     "output_type": "stream",
     "text": [
      "[Parallel(n_jobs=-1)]: Using backend LokyBackend with 20 concurrent workers.\n",
      "[Parallel(n_jobs=-1)]: Done  10 tasks      | elapsed:    3.5s\n"
     ]
    },
    {
     "name": "stdout",
     "output_type": "stream",
     "text": [
      "Best Params: {'max_depth': 5, 'min_samples_leaf': 10, 'min_samples_split': 2}\n",
      "Best Decision Tree Accuracy: 0.6208\n"
     ]
    },
    {
     "name": "stderr",
     "output_type": "stream",
     "text": [
      "[Parallel(n_jobs=-1)]: Done 180 out of 180 | elapsed:    5.4s finished\n"
     ]
    }
   ],
   "source": [
    "from sklearn.model_selection import GridSearchCV\n",
    "from sklearn.tree import DecisionTreeClassifier\n",
    "\n",
    "param_grid = {\n",
    "    'max_depth': [5, 10, 20, None],\n",
    "    'min_samples_split': [2, 5, 10],\n",
    "    'min_samples_leaf': [1, 5, 10]\n",
    "}\n",
    "\n",
    "grid_tree = GridSearchCV(\n",
    "    DecisionTreeClassifier(random_state=42), \n",
    "    param_grid, \n",
    "    cv=5, \n",
    "    scoring='accuracy', \n",
    "    n_jobs=-1,   # 并行计算\n",
    "    verbose=1    # 输出进度\n",
    ")\n",
    "\n",
    "grid_tree.fit(X_train, y_train)\n",
    "\n",
    "best_tree = grid_tree.best_estimator_\n",
    "\n",
    "# 打印最佳参数\n",
    "print(f'Best Params: {grid_tree.best_params_}')\n",
    "print(f'Best Decision Tree Accuracy: {grid_tree.best_score_:.4f}')\n"
   ]
  },
  {
   "cell_type": "code",
   "execution_count": null,
   "id": "17c2800f-2162-48be-b5f7-782c3889aa53",
   "metadata": {},
   "outputs": [],
   "source": []
  }
 ],
 "metadata": {
  "kernelspec": {
   "display_name": "Python 3 (ipykernel)",
   "language": "python",
   "name": "python3"
  },
  "language_info": {
   "codemirror_mode": {
    "name": "ipython",
    "version": 3
   },
   "file_extension": ".py",
   "mimetype": "text/x-python",
   "name": "python",
   "nbconvert_exporter": "python",
   "pygments_lexer": "ipython3",
   "version": "3.8.20"
  }
 },
 "nbformat": 4,
 "nbformat_minor": 5
}
