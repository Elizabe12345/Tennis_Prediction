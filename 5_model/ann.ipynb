{
 "cells": [
  {
   "cell_type": "code",
   "execution_count": 1,
   "id": "6fa68058-8375-41c9-a893-fb8647c0c9b9",
   "metadata": {},
   "outputs": [],
   "source": [
    "import pandas as pd\n",
    "import numpy as np\n",
    "from sklearn.model_selection import train_test_split\n",
    "from sklearn.preprocessing import StandardScaler, OneHotEncoder\n",
    "from sklearn.tree import DecisionTreeClassifier\n",
    "from sklearn.neural_network import MLPClassifier\n",
    "from sklearn.metrics import accuracy_score, classification_report, roc_auc_score\n",
    "import matplotlib.pyplot as plt\n"
   ]
  },
  {
   "cell_type": "code",
   "execution_count": 2,
   "id": "1096259b-2803-4048-bd40-a52943921ac8",
   "metadata": {},
   "outputs": [],
   "source": [
    "match_df = pd.read_csv(r\"..\\dataset\\processed_data\\match_df_20_24_symmetry.csv\",low_memory=False)"
   ]
  },
  {
   "cell_type": "code",
   "execution_count": 3,
   "id": "b570ed56-dd63-4b45-b6f1-336ef320b74b",
   "metadata": {},
   "outputs": [],
   "source": [
    "hist_features = [col for col in match_df.columns if col.endswith('_hist')]\n",
    "hist_e_features = [col for col in match_df.columns if col.endswith('_hist_e')]\n",
    "histo_features = [col for col in match_df.columns if col.endswith('_histo')]\n",
    "elo_features = ['sym_elo']\n",
    "rank_features = [ 'sym_rank', 'sym_rank_points']\n",
    "supplement_features = ['round_code', 'best_of', 'surface_Clay', 'surface_Grass',\n",
    "                       'surface_Hard','sym_seed_bucket',\n",
    "                       'sym_entry', 'sym_host', 'sym_hand', 'sym_ht', 'sym_age']\n",
    "\n",
    "features = hist_features + hist_e_features + histo_features + elo_features + rank_features + supplement_features\n",
    "continuous_features = hist_features + hist_e_features + histo_features + elo_features + rank_features + [\n",
    "    'sym_ht', 'sym_age']\n",
    "X = match_df[features]\n",
    "y = match_df['result']"
   ]
  },
  {
   "cell_type": "code",
   "execution_count": 4,
   "id": "461c8806-f036-4587-80f8-01c2acbc5010",
   "metadata": {},
   "outputs": [],
   "source": [
    "# 显式创建 X 的副本，防止 SettingWithCopyWarning\n",
    "X = match_df[features].copy()\n",
    "\n",
    "# 归一化数值特征\n",
    "scaler = StandardScaler()\n",
    "X[continuous_features] = scaler.fit_transform(X[continuous_features])"
   ]
  },
  {
   "cell_type": "code",
   "execution_count": 34,
   "id": "23a3a91c-9679-47a3-9afc-efaa81af14be",
   "metadata": {},
   "outputs": [],
   "source": [
    "#X = pd.get_dummies(X, columns=['sym_entry', 'sym_hand', 'sym_host','round_code', 'best_of','sym_seed_bucket'], drop_first=True)"
   ]
  },
  {
   "cell_type": "markdown",
   "id": "4af46879-209b-4425-bf52-d5e433763210",
   "metadata": {},
   "source": [
    "match_df['year'] = pd.to_datetime(match_df['tourney_date'], format='%Y-%m-%d').dt.year\n",
    "train_mask = match_df['year'].between(2020, 2023)\n",
    "test_mask = (match_df['year'] == 2024)\n",
    "\n",
    "X_train, X_test = X[train_mask], X[test_mask]\n",
    "y = match_df['result']\n",
    "y_train = y[train_mask]\n",
    "y_test = y[test_mask]"
   ]
  },
  {
   "cell_type": "code",
   "execution_count": 5,
   "id": "e5778c2f-1797-43f5-a7df-e4ecfbe5a92d",
   "metadata": {},
   "outputs": [],
   "source": [
    "X_train, X_test, y_train, y_test = train_test_split(X, y, test_size=0.2, random_state=42)"
   ]
  },
  {
   "cell_type": "code",
   "execution_count": 6,
   "id": "374a5afe-dd3f-454e-9d33-751f53a4dd78",
   "metadata": {},
   "outputs": [
    {
     "name": "stdout",
     "output_type": "stream",
     "text": [
      "Decision Tree Accuracy: 0.5953\n",
      "              precision    recall  f1-score   support\n",
      "\n",
      "           0       0.61      0.63      0.62      1275\n",
      "           1       0.58      0.56      0.57      1171\n",
      "\n",
      "    accuracy                           0.60      2446\n",
      "   macro avg       0.59      0.59      0.59      2446\n",
      "weighted avg       0.59      0.60      0.59      2446\n",
      "\n"
     ]
    }
   ],
   "source": [
    "tree_model = DecisionTreeClassifier(max_depth=10, min_samples_split=10, random_state=42)\n",
    "tree_model.fit(X_train, y_train)\n",
    "\n",
    "y_pred_tree = tree_model.predict(X_test)\n",
    "accuracy_tree = accuracy_score(y_test, y_pred_tree)\n",
    "\n",
    "print(f'Decision Tree Accuracy: {accuracy_tree:.4f}')\n",
    "print(classification_report(y_test, y_pred_tree))"
   ]
  },
  {
   "cell_type": "code",
   "execution_count": 8,
   "id": "74e73891-8e39-4b6e-af30-e80446fee4b0",
   "metadata": {},
   "outputs": [
    {
     "name": "stdout",
     "output_type": "stream",
     "text": [
      "Best Decision Tree Accuracy: 0.6208\n"
     ]
    }
   ],
   "source": [
    "from sklearn.model_selection import GridSearchCV\n",
    "\n",
    "param_grid = {\n",
    "    'max_depth': [5, 10, 20, None],\n",
    "    'min_samples_split': [2, 5, 10],\n",
    "    'min_samples_leaf': [1, 5, 10]\n",
    "}\n",
    "\n",
    "grid_tree = GridSearchCV(DecisionTreeClassifier(random_state=42), param_grid, cv=5, scoring='accuracy')\n",
    "grid_tree.fit(X_train, y_train)\n",
    "\n",
    "best_tree = grid_tree.best_estimator_\n",
    "print(f'Best Decision Tree Accuracy: {grid_tree.best_score_:.4f}')\n"
   ]
  },
  {
   "cell_type": "code",
   "execution_count": 9,
   "id": "e119d016-65a9-4893-a600-eaa3305642a7",
   "metadata": {},
   "outputs": [
    {
     "name": "stdout",
     "output_type": "stream",
     "text": [
      "Artificial Neural Network Accuracy: 0.5879\n",
      "              precision    recall  f1-score   support\n",
      "\n",
      "           0       0.61      0.57      0.59      1275\n",
      "           1       0.57      0.60      0.58      1171\n",
      "\n",
      "    accuracy                           0.59      2446\n",
      "   macro avg       0.59      0.59      0.59      2446\n",
      "weighted avg       0.59      0.59      0.59      2446\n",
      "\n"
     ]
    }
   ],
   "source": [
    "ann_model = MLPClassifier(hidden_layer_sizes=(64, 32), activation='relu', solver='adam', \n",
    "                          alpha=0.01, max_iter=500, random_state=42)\n",
    "ann_model.fit(X_train, y_train)\n",
    "\n",
    "y_pred_ann = ann_model.predict(X_test)\n",
    "accuracy_ann = accuracy_score(y_test, y_pred_ann)\n",
    "\n",
    "print(f'Artificial Neural Network Accuracy: {accuracy_ann:.4f}')\n",
    "print(classification_report(y_test, y_pred_ann))"
   ]
  },
  {
   "cell_type": "code",
   "execution_count": null,
   "id": "cb5d3f42-1c80-48a2-9979-da5adfa91388",
   "metadata": {},
   "outputs": [],
   "source": [
    "param_grid_ann = {\n",
    "    'hidden_layer_sizes': [(64,), (64, 32), (128, 64)],\n",
    "    'alpha': [0.01, 0.001, 0.0001],\n",
    "    'solver': ['adam', 'sgd']\n",
    "}\n",
    "\n",
    "grid_ann = GridSearchCV(MLPClassifier(max_iter=500, random_state=42), param_grid_ann, cv=5, scoring='accuracy')\n",
    "grid_ann.fit(X_train, y_train)\n",
    "\n",
    "best_ann = grid_ann.best_estimator_\n",
    "print(f'Best ANN Accuracy: {grid_ann.best_score_:.4f}')\n"
   ]
  },
  {
   "cell_type": "code",
   "execution_count": null,
   "id": "fed45e76-c2f5-40e5-bc28-55b109c6ebda",
   "metadata": {},
   "outputs": [],
   "source": [
    "print(f'Decision Tree Accuracy: {accuracy_tree:.4f}')\n",
    "print(f'Artificial Neural Network Accuracy: {accuracy_ann:.4f}')"
   ]
  },
  {
   "cell_type": "code",
   "execution_count": null,
   "id": "fb9cd6b8-ee6b-4c00-80c2-d8d9d566fa7e",
   "metadata": {},
   "outputs": [],
   "source": []
  }
 ],
 "metadata": {
  "kernelspec": {
   "display_name": "Python 3 (ipykernel)",
   "language": "python",
   "name": "python3"
  },
  "language_info": {
   "codemirror_mode": {
    "name": "ipython",
    "version": 3
   },
   "file_extension": ".py",
   "mimetype": "text/x-python",
   "name": "python",
   "nbconvert_exporter": "python",
   "pygments_lexer": "ipython3",
   "version": "3.8.20"
  }
 },
 "nbformat": 4,
 "nbformat_minor": 5
}
