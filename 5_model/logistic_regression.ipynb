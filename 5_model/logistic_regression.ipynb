{
 "cells": [
  {
   "cell_type": "code",
   "execution_count": 1,
   "id": "6fa68058-8375-41c9-a893-fb8647c0c9b9",
   "metadata": {},
   "outputs": [],
   "source": [
    "import pandas as pd\n",
    "import numpy as np\n",
    "from sklearn.model_selection import train_test_split\n",
    "from sklearn.preprocessing import StandardScaler\n",
    "from sklearn.linear_model import LogisticRegression\n",
    "from sklearn.metrics import accuracy_score, classification_report, roc_auc_score, roc_curve\n",
    "import matplotlib.pyplot as plt"
   ]
  },
  {
   "cell_type": "code",
   "execution_count": 2,
   "id": "1096259b-2803-4048-bd40-a52943921ac8",
   "metadata": {},
   "outputs": [],
   "source": [
    "match_df = pd.read_csv(r\"..\\dataset\\processed_data\\match_df_20_24_symmetry.csv\",low_memory=False)"
   ]
  },
  {
   "cell_type": "code",
   "execution_count": 4,
   "id": "b570ed56-dd63-4b45-b6f1-336ef320b74b",
   "metadata": {},
   "outputs": [],
   "source": [
    "# 定义所有特征\n",
    "features = ['round_code', 'best_of', 'surface_Clay', 'surface_Grass', 'surface_Hard','sym_seed_bucket', 'sym_entry', 'sym_host', \n",
    "            'sym_hand', 'sym_ht', 'sym_age', 'sym_elo_before', 'sym_ace_hist', 'sym_df_hist',\n",
    "            'sym_svpt_hist', 'sym_fstIn_hist', 'sym_fstWon_hist', 'sym_sndWon_hist',\n",
    "            'sym_SvGms_hist', 'sym_bpSaved_hist', 'sym_bpFaced_hist', 'sym_baseline_rally_hist',\n",
    "            'sym_intensity_hist', 'sym_ace_rate_hist', 'sym_df_rate_hist', \n",
    "            'sym_serve_win_rate_hist', 'sym_serve_efficiency_hist', 'sym_clutch_ability_hist']\n",
    "\n",
    "# 数值型特征\n",
    "continuous_features = ['sym_ht', 'sym_age', 'sym_elo_before', 'sym_ace_hist', 'sym_df_hist', \n",
    "                       'sym_svpt_hist', 'sym_fstIn_hist', 'sym_fstWon_hist', 'sym_sndWon_hist', \n",
    "                       'sym_SvGms_hist', 'sym_bpSaved_hist', 'sym_bpFaced_hist', \n",
    "                       'sym_baseline_rally_hist', 'sym_intensity_hist', 'sym_ace_rate_hist', \n",
    "                       'sym_df_rate_hist', 'sym_serve_win_rate_hist', 'sym_serve_efficiency_hist', \n",
    "                       'sym_clutch_ability_hist']\n",
    "\n",
    "# 目标变量\n",
    "X = match_df[features]\n",
    "y = match_df['result']"
   ]
  },
  {
   "cell_type": "code",
   "execution_count": 5,
   "id": "461c8806-f036-4587-80f8-01c2acbc5010",
   "metadata": {},
   "outputs": [],
   "source": [
    "# 显式创建 X 的副本，防止 SettingWithCopyWarning\n",
    "X = match_df[features].copy()\n",
    "\n",
    "# 归一化数值特征\n",
    "scaler = StandardScaler()\n",
    "X[continuous_features] = scaler.fit_transform(X[continuous_features])"
   ]
  },
  {
   "cell_type": "code",
   "execution_count": 5,
   "id": "23a3a91c-9679-47a3-9afc-efaa81af14be",
   "metadata": {},
   "outputs": [],
   "source": [
    "#X = pd.get_dummies(X, columns=['sym_entry', 'sym_hand', 'sym_host','round_code', 'best_of','sym_seed_bucket'], drop_first=True)"
   ]
  },
  {
   "cell_type": "markdown",
   "id": "2f453bc4-96b1-4939-852a-f00d65a60d99",
   "metadata": {},
   "source": [
    "### 按时序年份训练模型 "
   ]
  },
  {
   "cell_type": "code",
   "execution_count": null,
   "id": "44b489a6-c4ee-4e71-a5f5-1eb7d5dbb24c",
   "metadata": {},
   "outputs": [],
   "source": [
    "match_df['year'] = pd.to_datetime(match_df['tourney_date'], format='%Y-%m-%d').dt.year\n",
    "train_mask = match_df['year'].between(2020, 2023)\n",
    "test_mask = (match_df['year'] == 2024)\n",
    "\n",
    "X_train, X_test = X[train_mask], X[test_mask]\n",
    "y = match_df['result']\n",
    "y_train = y[train_mask]\n",
    "y_test = y[test_mask]"
   ]
  },
  {
   "cell_type": "code",
   "execution_count": null,
   "id": "edc3863d-dfef-40ae-ad05-128847c49f84",
   "metadata": {},
   "outputs": [],
   "source": [
    "from sklearn.model_selection import train_test_split\n",
    "from sklearn.linear_model import LogisticRegression\n",
    "from sklearn.metrics import accuracy_score, roc_auc_score, classification_report\n",
    "\n",
    "match_df['year'] = pd.to_datetime(match_df['tourney_date'], format='%Y-%m-%d').dt.year\n",
    "\n",
    "# 存储每年对应的训练和测试结果\n",
    "results = {}\n",
    "\n",
    "# 获取所有年份\n",
    "years = match_df['year'].unique()\n",
    "\n",
    "for year in years:\n",
    "    year_mask = match_df['year'] == year\n",
    "    X_year, y_year = X[year_mask], match_df['result'][year_mask]\n",
    "    \n",
    "    # 按 0.2 比例划分训练集和测试集\n",
    "    X_train, X_test, y_train, y_test = train_test_split(X_year, y_year, test_size=0.2, random_state=42)\n",
    "    \n",
    "    # 训练模型\n",
    "    model = LogisticRegression(solver='liblinear', penalty='l2', C=0.01)\n",
    "    model.fit(X_train, y_train)\n",
    "    \n",
    "    # 预测\n",
    "    y_pred = model.predict(X_test)\n",
    "    y_prob = model.predict_proba(X_test)[:, 1]  # 概率预测\n",
    "    \n",
    "    # 评估\n",
    "    accuracy = accuracy_score(y_test, y_pred)\n",
    "    auc = roc_auc_score(y_test, y_prob)\n",
    "    \n",
    "    print(f'Year {year} - Accuracy: {accuracy:.4f}')\n",
    "    print(f'Year {year} - AUC: {auc:.4f}')\n",
    "    print(classification_report(y_test, y_pred))\n",
    "    \n",
    "    # 存储结果\n",
    "    results[year] = {'accuracy': accuracy, 'auc': auc}\n"
   ]
  },
  {
   "cell_type": "markdown",
   "id": "89132ca1-a6da-413d-a542-526baf8aee20",
   "metadata": {},
   "source": [
    "### 按年份分层"
   ]
  },
  {
   "cell_type": "code",
   "execution_count": 5,
   "id": "87d09084-f17c-415b-840a-8506c1cbdaf5",
   "metadata": {},
   "outputs": [
    {
     "name": "stdout",
     "output_type": "stream",
     "text": [
      "Global Test Accuracy: 0.6487\n",
      "\n",
      "Yearly Performance Breakdown:\n",
      "Year 2020 (n=415):\n",
      "  Accuracy: 0.6651\n",
      "  AUC: 0.7208\n",
      "  F1-score: 0.6639\n",
      "Year 2021 (n=765):\n",
      "  Accuracy: 0.6444\n",
      "  AUC: 0.6956\n",
      "  F1-score: 0.6439\n",
      "Year 2022 (n=800):\n",
      "  Accuracy: 0.6600\n",
      "  AUC: 0.7281\n",
      "  F1-score: 0.6599\n",
      "Year 2023 (n=822):\n",
      "  Accuracy: 0.6399\n",
      "  AUC: 0.6731\n",
      "  F1-score: 0.6399\n",
      "Year 2024 (n=867):\n",
      "  Accuracy: 0.6424\n",
      "  AUC: 0.6888\n",
      "  F1-score: 0.6424\n"
     ]
    }
   ],
   "source": [
    "from sklearn.model_selection import train_test_split\n",
    "from sklearn.linear_model import LogisticRegression\n",
    "from sklearn.metrics import accuracy_score, roc_auc_score, classification_report\n",
    "\n",
    "# 创建年份特征\n",
    "match_df['year'] = pd.to_datetime(match_df['tourney_date']).dt.year\n",
    "\n",
    "# 按年份分层抽样划分数据集（所有年份统一划分）\n",
    "X_train, X_test, y_train, y_test = train_test_split(\n",
    "    X, \n",
    "    y,\n",
    "    test_size=0.2,  # 修改测试集比例\n",
    "    stratify=match_df['year'],  # 关键修改点：按年份分层\n",
    "    random_state=42\n",
    ")\n",
    "\n",
    "# 训练全局模型\n",
    "model = LogisticRegression(solver='liblinear', penalty='l2', C=0.01)\n",
    "model.fit(X_train, y_train)\n",
    "\n",
    "# 获取测试集的年份信息\n",
    "test_indices = y_test.index\n",
    "test_years = match_df.loc[test_indices, 'year']\n",
    "\n",
    "# 初始化结果存储\n",
    "results = {}\n",
    "\n",
    "# 分年度评估模型表现\n",
    "for year in test_years.unique():\n",
    "    # 提取该年份的测试样本\n",
    "    year_mask = (test_years == year)\n",
    "    X_year = X_test[year_mask]\n",
    "    y_year = y_test[year_mask]\n",
    "    \n",
    "    # 预测与评估\n",
    "    y_pred = model.predict(X_year)\n",
    "    y_prob = model.predict_proba(X_year)[:, 1]\n",
    "    \n",
    "    # 存储结果\n",
    "    results[year] = {\n",
    "        'accuracy': accuracy_score(y_year, y_pred),\n",
    "        'auc': roc_auc_score(y_year, y_prob),\n",
    "        'support': len(y_year),\n",
    "        'report': classification_report(y_year, y_pred, output_dict=True)\n",
    "    }\n",
    "\n",
    "# 打印格式化结果\n",
    "print(f\"Global Test Accuracy: {accuracy_score(y_test, model.predict(X_test)):.4f}\")\n",
    "print(\"\\nYearly Performance Breakdown:\")\n",
    "for year, metrics in sorted(results.items()):\n",
    "    print(f\"Year {year} (n={metrics['support']}):\")\n",
    "    print(f\"  Accuracy: {metrics['accuracy']:.4f}\")\n",
    "    print(f\"  AUC: {metrics['auc']:.4f}\")\n",
    "    print(f\"  F1-score: {metrics['report']['macro avg']['f1-score']:.4f}\")"
   ]
  },
  {
   "cell_type": "markdown",
   "id": "c2b8d786-cfd5-463c-bdc6-66e02db6d5e1",
   "metadata": {},
   "source": [
    "### 普通训练测试划分"
   ]
  },
  {
   "cell_type": "code",
   "execution_count": 6,
   "id": "e5778c2f-1797-43f5-a7df-e4ecfbe5a92d",
   "metadata": {},
   "outputs": [],
   "source": [
    "X_train, X_test, y_train, y_test = train_test_split(X, y, test_size=0.2, random_state=42)"
   ]
  },
  {
   "cell_type": "code",
   "execution_count": 7,
   "id": "374a5afe-dd3f-454e-9d33-751f53a4dd78",
   "metadata": {},
   "outputs": [
    {
     "data": {
      "text/plain": [
       "LogisticRegression(C=0.01, class_weight=None, dual=False, fit_intercept=True,\n",
       "                   intercept_scaling=1, l1_ratio=None, max_iter=100,\n",
       "                   multi_class='auto', n_jobs=None, penalty='l2',\n",
       "                   random_state=None, solver='liblinear', tol=0.0001, verbose=0,\n",
       "                   warm_start=False)"
      ]
     },
     "execution_count": 7,
     "metadata": {},
     "output_type": "execute_result"
    }
   ],
   "source": [
    "model = LogisticRegression(solver='liblinear', penalty='l2', C=0.01)\n",
    "model.fit(X_train, y_train)"
   ]
  },
  {
   "cell_type": "code",
   "execution_count": 8,
   "id": "175325c6-8f35-4ce9-9430-3b1cc746082c",
   "metadata": {},
   "outputs": [
    {
     "name": "stdout",
     "output_type": "stream",
     "text": [
      "Accuracy: 0.6443\n",
      "AUC: 0.7004\n",
      "              precision    recall  f1-score   support\n",
      "\n",
      "           0       0.66      0.64      0.65      1261\n",
      "           1       0.63      0.65      0.64      1185\n",
      "\n",
      "    accuracy                           0.64      2446\n",
      "   macro avg       0.64      0.64      0.64      2446\n",
      "weighted avg       0.64      0.64      0.64      2446\n",
      "\n"
     ]
    }
   ],
   "source": [
    "y_pred = model.predict(X_test)\n",
    "y_prob = model.predict_proba(X_test)[:, 1]  # 概率预测\n",
    "\n",
    "accuracy = accuracy_score(y_test, y_pred)\n",
    "auc = roc_auc_score(y_test, y_prob)\n",
    "\n",
    "print(f'Accuracy: {accuracy:.4f}')\n",
    "print(f'AUC: {auc:.4f}')\n",
    "print(classification_report(y_test, y_pred))\n"
   ]
  },
  {
   "cell_type": "code",
   "execution_count": 9,
   "id": "74e73891-8e39-4b6e-af30-e80446fee4b0",
   "metadata": {},
   "outputs": [
    {
     "name": "stdout",
     "output_type": "stream",
     "text": [
      "Best C: 0.1\n"
     ]
    }
   ],
   "source": [
    "from sklearn.model_selection import GridSearchCV\n",
    "\n",
    "param_grid = {'C': [0.01, 0.1, 1, 10, 100]}\n",
    "grid_search = GridSearchCV(LogisticRegression(solver='liblinear'), param_grid, cv=5, scoring='accuracy')\n",
    "grid_search.fit(X_train, y_train)\n",
    "\n",
    "best_model = grid_search.best_estimator_\n",
    "print(f'Best C: {grid_search.best_params_[\"C\"]}')\n"
   ]
  },
  {
   "cell_type": "code",
   "execution_count": 10,
   "id": "e119d016-65a9-4893-a600-eaa3305642a7",
   "metadata": {},
   "outputs": [
    {
     "data": {
      "image/png": "[encoded data removed]",
      "text/plain": [
       "<Figure size 640x480 with 1 Axes>"
      ]
     },
     "metadata": {},
     "output_type": "display_data"
    }
   ],
   "source": [
    "fpr, tpr, _ = roc_curve(y_test, y_prob)\n",
    "plt.plot(fpr, tpr, label=f'AUC = {auc:.4f}')\n",
    "plt.xlabel('False Positive Rate')\n",
    "plt.ylabel('True Positive Rate')\n",
    "plt.title('ROC Curve')\n",
    "plt.legend()\n",
    "plt.show()\n"
   ]
  },
  {
   "cell_type": "code",
   "execution_count": 11,
   "id": "cb5d3f42-1c80-48a2-9979-da5adfa91388",
   "metadata": {},
   "outputs": [],
   "source": [
    "from sklearn.inspection import permutation_importance\n",
    "import statsmodels.api as sm\n",
    "pd.set_option('display.max_columns', None)\n",
    "pd.set_option('display.max_rows', None)\n",
    "\n",
    "# 方法1：系数绝对值\n",
    "coef_importance = np.abs(model.coef_[0])\n",
    "\n",
    "# 方法2：置换重要性\n",
    "perm_result = permutation_importance(\n",
    "    model, X_test, y_test, n_repeats=30, random_state=42\n",
    ")\n",
    "perm_importance = perm_result.importances_mean"
   ]
  },
  {
   "cell_type": "code",
   "execution_count": 12,
   "id": "8212c3b7-5d7e-47ca-b79f-f39876446485",
   "metadata": {},
   "outputs": [],
   "source": [
    "importance_df = pd.DataFrame({\n",
    "    \"feature\": X.columns,\n",
    "    \"coef_importance\": coef_importance,\n",
    "    \"perm_importance\": perm_importance,\n",
    "})"
   ]
  },
  {
   "cell_type": "code",
   "execution_count": 13,
   "id": "0c1bf2ee-10bd-4137-bb81-34bbd555580b",
   "metadata": {},
   "outputs": [
    {
     "name": "stdout",
     "output_type": "stream",
     "text": [
      "                      feature  coef_importance  perm_importance\n",
      "10                    sym_age         0.380248         0.025988\n",
      "11             sym_elo_before         0.320668         0.028019\n",
      "22         sym_intensity_hist         0.297909         0.012292\n",
      "25    sym_serve_win_rate_hist         0.256268         0.015004\n",
      "20           sym_bpFaced_hist         0.129035         0.007972\n",
      "19           sym_bpSaved_hist         0.110586         0.005983\n",
      "26  sym_serve_efficiency_hist         0.109970         0.004429\n",
      "27    sym_clutch_ability_hist         0.089737         0.001322\n",
      "5             sym_seed_bucket         0.069601         0.018084\n",
      "12               sym_ace_hist         0.069454        -0.000014\n",
      "3               surface_Grass         0.066886        -0.000041\n",
      "16            sym_fstWon_hist         0.066713         0.000627\n",
      "6                   sym_entry         0.062519        -0.000014\n",
      "18             sym_SvGms_hist         0.060354         0.001404\n",
      "8                    sym_hand         0.050091        -0.000504\n",
      "9                      sym_ht         0.049363         0.001513\n",
      "15             sym_fstIn_hist         0.044693        -0.001513\n",
      "14              sym_svpt_hist         0.042395        -0.001649\n",
      "4                surface_Hard         0.037765        -0.001990\n",
      "24           sym_df_rate_hist         0.036727        -0.001322\n",
      "21    sym_baseline_rally_hist         0.031572        -0.000055\n",
      "1                     best_of         0.028910        -0.001867\n",
      "23          sym_ace_rate_hist         0.026192         0.002194\n",
      "0                  round_code         0.022125        -0.000695\n",
      "2                surface_Clay         0.021496        -0.000109\n",
      "13                sym_df_hist         0.017684        -0.001036\n",
      "7                    sym_host         0.017601        -0.000750\n",
      "17            sym_sndWon_hist         0.012618         0.000327\n"
     ]
    }
   ],
   "source": [
    "# 按 coef_importance 降序排序（从高到低）\n",
    "importance_df_sorted = importance_df.sort_values(\n",
    "    by=\"coef_importance\",     # 指定排序依据的列\n",
    "    ascending=False,           # 降序排列（值越大越靠前）\n",
    ")\n",
    "\n",
    "# 输出排序后的 DataFrame\n",
    "print(importance_df_sorted)"
   ]
  },
  {
   "cell_type": "code",
   "execution_count": null,
   "id": "54681c0a-743f-47c7-b9f5-68a605ef3904",
   "metadata": {},
   "outputs": [],
   "source": []
  }
 ],
 "metadata": {
  "kernelspec": {
   "display_name": "Python 3 (ipykernel)",
   "language": "python",
   "name": "python3"
  },
  "language_info": {
   "codemirror_mode": {
    "name": "ipython",
    "version": 3
   },
   "file_extension": ".py",
   "mimetype": "text/x-python",
   "name": "python",
   "nbconvert_exporter": "python",
   "pygments_lexer": "ipython3",
   "version": "3.8.20"
  }
 },
 "nbformat": 4,
 "nbformat_minor": 5
}
